{
 "cells": [
  {
   "cell_type": "markdown",
   "metadata": {
    "id": "r2AdooARgg9w"
   },
   "source": [
    "# SD202 TP3 - Views, Updates and Database Design\n",
    "\n",
    "*Author: Benjamin Ternot*\n",
    "\n",
    "The objectives for this TP are:\n",
    "\n",
    "1. Create and use SQL Views\n",
    "2. Update database content\n",
    "3. Design the database schema for a marketplace\n",
    "\n",
    "\n",
    "For the first 2 parts we will use the _wine_ database and the Tables created in TP2.\n",
    "\n",
    "A reminder of the wine database schema:"
   ]
  },
  {
   "cell_type": "raw",
   "metadata": {
    "id": "K0b9FKOAgg9y"
   },
   "source": [
    "+-----------------------------------------+\n",
    "|                 Master1                 |\n",
    "+-----------------------------------------+\n",
    "| NV:      Wine number                    |\n",
    "| CRU:     Vineyard or group of vineyards |\n",
    "| DEGRE:   Alcohol content                |\n",
    "| MILL:    Vintage year                   |\n",
    "| QTE:     Number of bottles harvested    |\n",
    "| NP:      Producer number                |\n",
    "| NOM:     Producer's last name           |\n",
    "| PRENOM:  Producer's first name          |\n",
    "| REGION:  Wine growing region            |\n",
    "+-----------------------------------------+\n",
    "\n",
    "+-------------------------------------------------------------------+\n",
    "|                              Master2                              |\n",
    "+-------------------------------------------------------------------+\n",
    "| NV:      Wine number                                              |\n",
    "| CRU:     Vineyard or group of vineyards                           |\n",
    "| DEGRE:   Alcohol content                                          |\n",
    "| MILL:    Vintage year                                             |\n",
    "| DATES:   Buying date                                              |\n",
    "| LIEU:    Place where the wine was sold                            |\n",
    "| QTE:     Number of bottles bought                                 |\n",
    "| NB:      Client (buveur) number                                   |\n",
    "| NON:     Client's last name                                       |\n",
    "| PRENOM:  Client's first name                                      |\n",
    "| TYPE:    Type of client by volume of purchases                    |\n",
    "| REGION:  Administrative Region (different to wine growing region) |\n",
    "+-------------------------------------------------------------------+"
   ]
  },
  {
   "cell_type": "code",
   "execution_count": 1,
   "metadata": {
    "id": "YvPbii3Bgg9z"
   },
   "outputs": [],
   "source": [
    "import sqlite3"
   ]
  },
  {
   "cell_type": "code",
   "execution_count": 2,
   "metadata": {
    "id": "19pDf7DXgg9z"
   },
   "outputs": [],
   "source": [
    "def printSchema(connection):\n",
    "    ### Source: http://stackoverflow.com/a/35092773/4765776\n",
    "    for (tableName,) in connection.execute(\n",
    "        \"\"\"\n",
    "        select NAME from SQLITE_MASTER where TYPE='table' order by NAME;\n",
    "        \"\"\"\n",
    "    ):\n",
    "        print(\"{}:\".format(tableName))\n",
    "        for (\n",
    "            columnID, columnName, columnType,\n",
    "            columnNotNull, columnDefault, columnPK,\n",
    "        ) in connection.execute(\"pragma table_info('{}');\".format(tableName)):\n",
    "            print(\"  {id}: {name}({type}){null}{default}{pk}\".format(\n",
    "                id=columnID,\n",
    "                name=columnName,\n",
    "                type=columnType,\n",
    "                null=\" not null\" if columnNotNull else \"\",\n",
    "                default=\" [{}]\".format(columnDefault) if columnDefault else \"\",\n",
    "                pk=\" *{}\".format(columnPK) if columnPK else \"\",\n",
    "            ))"
   ]
  },
  {
   "cell_type": "code",
   "execution_count": 3,
   "metadata": {
    "id": "0GHv4otOgg90",
    "outputId": "9dbf0b5b-9136-4e62-ccd9-ed5a656881e1"
   },
   "outputs": [
    {
     "name": "stdout",
     "output_type": "stream",
     "text": [
      "Database schema:\n",
      "MASTER1:\n",
      "  0: NV(NUM)\n",
      "  1: CRU(TEXT)\n",
      "  2: DEGRE(NUM)\n",
      "  3: MILL(NUM)\n",
      "  4: QTE(NUM)\n",
      "  5: NP(NUM)\n",
      "  6: NOM(TEXT)\n",
      "  7: PRENOM(TEXT)\n",
      "  8: REGION(TEXT)\n",
      "MASTER2:\n",
      "  0: NV(NUM)\n",
      "  1: CRU(TEXT)\n",
      "  2: DEGRE(NUM)\n",
      "  3: MILL(NUM)\n",
      "  4: DATES(DATE)\n",
      "  5: LIEU(TEXT)\n",
      "  6: QTE(NUM)\n",
      "  7: NB(NUM)\n",
      "  8: NOM(TEXT)\n",
      "  9: PRENOM(TEXT)\n",
      "  10: TYPE(TEXT)\n",
      "  11: REGION(TEXT)\n"
     ]
    }
   ],
   "source": [
    "conn = sqlite3.connect('wine.db')\n",
    "c = conn.cursor()\n",
    "print(\"Database schema:\")\n",
    "printSchema(conn)"
   ]
  },
  {
   "cell_type": "markdown",
   "metadata": {
    "id": "E_4w7XLngg90"
   },
   "source": [
    "Again, we recommend inline %sql as an alternative to the sqlite3 package"
   ]
  },
  {
   "cell_type": "code",
   "execution_count": 4,
   "metadata": {
    "id": "3jNpDDlLgg90",
    "outputId": "982f86dd-b471-4428-a280-a780283db086"
   },
   "outputs": [],
   "source": [
    "%load_ext sql\n",
    "%sql sqlite:///wine.db"
   ]
  },
  {
   "cell_type": "markdown",
   "metadata": {
    "id": "ZA4e92Vlgg91"
   },
   "source": [
    "Recreate the Tables in 3NF/BCNF from Master2 as you did in the TP2"
   ]
  },
  {
   "cell_type": "code",
   "execution_count": 5,
   "metadata": {
    "id": "T0J6zUP0gg91"
   },
   "outputs": [
    {
     "data": {
      "text/html": [
       "<span style=\"None\">Running query in &#x27;sqlite:///wine.db&#x27;</span>"
      ],
      "text/plain": [
       "Running query in 'sqlite:///wine.db'"
      ]
     },
     "metadata": {},
     "output_type": "display_data"
    },
    {
     "data": {
      "text/html": [
       "<span style=\"None\">Running query in &#x27;sqlite:///wine.db&#x27;</span>"
      ],
      "text/plain": [
       "Running query in 'sqlite:///wine.db'"
      ]
     },
     "metadata": {},
     "output_type": "display_data"
    },
    {
     "data": {
      "text/html": [
       "<span style=\"None\">Running query in &#x27;sqlite:///wine.db&#x27;</span>"
      ],
      "text/plain": [
       "Running query in 'sqlite:///wine.db'"
      ]
     },
     "metadata": {},
     "output_type": "display_data"
    },
    {
     "data": {
      "text/html": [
       "<span style=\"None\">Running query in &#x27;sqlite:///wine.db&#x27;</span>"
      ],
      "text/plain": [
       "Running query in 'sqlite:///wine.db'"
      ]
     },
     "metadata": {},
     "output_type": "display_data"
    },
    {
     "data": {
      "text/html": [
       "<span style=\"None\">Running query in &#x27;sqlite:///wine.db&#x27;</span>"
      ],
      "text/plain": [
       "Running query in 'sqlite:///wine.db'"
      ]
     },
     "metadata": {},
     "output_type": "display_data"
    },
    {
     "data": {
      "text/html": [
       "<span style=\"None\">Running query in &#x27;sqlite:///wine.db&#x27;</span>"
      ],
      "text/plain": [
       "Running query in 'sqlite:///wine.db'"
      ]
     },
     "metadata": {},
     "output_type": "display_data"
    },
    {
     "name": "stdout",
     "output_type": "stream",
     "text": [
      "\n",
      "Content of the database\n",
      "MASTER1:\n",
      "  0: NV(NUM)\n",
      "  1: CRU(TEXT)\n",
      "  2: DEGRE(NUM)\n",
      "  3: MILL(NUM)\n",
      "  4: QTE(NUM)\n",
      "  5: NP(NUM)\n",
      "  6: NOM(TEXT)\n",
      "  7: PRENOM(TEXT)\n",
      "  8: REGION(TEXT)\n",
      "MASTER2:\n",
      "  0: NV(NUM)\n",
      "  1: CRU(TEXT)\n",
      "  2: DEGRE(NUM)\n",
      "  3: MILL(NUM)\n",
      "  4: DATES(DATE)\n",
      "  5: LIEU(TEXT)\n",
      "  6: QTE(NUM)\n",
      "  7: NB(NUM)\n",
      "  8: NOM(TEXT)\n",
      "  9: PRENOM(TEXT)\n",
      "  10: TYPE(TEXT)\n",
      "  11: REGION(TEXT)\n",
      "PRODUCERS:\n",
      "  0: NP(NUM)\n",
      "  1: NOM(TEXT)\n",
      "  2: PRENOM(TEXT)\n",
      "  3: REGION(TEXT)\n",
      "PRODUCTIONS:\n",
      "  0: NV(NUM)\n",
      "  1: NP(NUM)\n",
      "  2: QTE(NUM)\n",
      "WINES1:\n",
      "  0: NV(NUM)\n",
      "  1: CRU(TEXT)\n",
      "  2: DEGRE(NUM)\n",
      "  3: MILL(NUM)\n"
     ]
    },
    {
     "data": {
      "text/html": [
       "<span style=\"None\">Running query in &#x27;sqlite:///wine.db&#x27;</span>"
      ],
      "text/plain": [
       "Running query in 'sqlite:///wine.db'"
      ]
     },
     "metadata": {},
     "output_type": "display_data"
    },
    {
     "data": {
      "text/html": [
       "<span style=\"None\">Running query in &#x27;sqlite:///wine.db&#x27;</span>"
      ],
      "text/plain": [
       "Running query in 'sqlite:///wine.db'"
      ]
     },
     "metadata": {},
     "output_type": "display_data"
    },
    {
     "data": {
      "text/html": [
       "<span style=\"None\">Running query in &#x27;sqlite:///wine.db&#x27;</span>"
      ],
      "text/plain": [
       "Running query in 'sqlite:///wine.db'"
      ]
     },
     "metadata": {},
     "output_type": "display_data"
    },
    {
     "data": {
      "text/html": [
       "<span style=\"None\">Running query in &#x27;sqlite:///wine.db&#x27;</span>"
      ],
      "text/plain": [
       "Running query in 'sqlite:///wine.db'"
      ]
     },
     "metadata": {},
     "output_type": "display_data"
    },
    {
     "data": {
      "text/html": [
       "<span style=\"None\">Running query in &#x27;sqlite:///wine.db&#x27;</span>"
      ],
      "text/plain": [
       "Running query in 'sqlite:///wine.db'"
      ]
     },
     "metadata": {},
     "output_type": "display_data"
    },
    {
     "data": {
      "text/html": [
       "<span style=\"None\">Running query in &#x27;sqlite:///wine.db&#x27;</span>"
      ],
      "text/plain": [
       "Running query in 'sqlite:///wine.db'"
      ]
     },
     "metadata": {},
     "output_type": "display_data"
    },
    {
     "data": {
      "text/html": [
       "<span style=\"None\">Running query in &#x27;sqlite:///wine.db&#x27;</span>"
      ],
      "text/plain": [
       "Running query in 'sqlite:///wine.db'"
      ]
     },
     "metadata": {},
     "output_type": "display_data"
    },
    {
     "data": {
      "text/html": [
       "<span style=\"None\">Running query in &#x27;sqlite:///wine.db&#x27;</span>"
      ],
      "text/plain": [
       "Running query in 'sqlite:///wine.db'"
      ]
     },
     "metadata": {},
     "output_type": "display_data"
    },
    {
     "name": "stdout",
     "output_type": "stream",
     "text": [
      "\n",
      "Content of the database\n",
      "CLIENTS:\n",
      "  0: NB(NUM)\n",
      "  1: NOM(TEXT)\n",
      "  2: PRENOM(TEXT)\n",
      "  3: TYPE(TEXT)\n",
      "LOC:\n",
      "  0: LIEU(TEXT)\n",
      "  1: REGION(TEXT)\n",
      "MASTER1:\n",
      "  0: NV(NUM)\n",
      "  1: CRU(TEXT)\n",
      "  2: DEGRE(NUM)\n",
      "  3: MILL(NUM)\n",
      "  4: QTE(NUM)\n",
      "  5: NP(NUM)\n",
      "  6: NOM(TEXT)\n",
      "  7: PRENOM(TEXT)\n",
      "  8: REGION(TEXT)\n",
      "MASTER2:\n",
      "  0: NV(NUM)\n",
      "  1: CRU(TEXT)\n",
      "  2: DEGRE(NUM)\n",
      "  3: MILL(NUM)\n",
      "  4: DATES(DATE)\n",
      "  5: LIEU(TEXT)\n",
      "  6: QTE(NUM)\n",
      "  7: NB(NUM)\n",
      "  8: NOM(TEXT)\n",
      "  9: PRENOM(TEXT)\n",
      "  10: TYPE(TEXT)\n",
      "  11: REGION(TEXT)\n",
      "PRODUCERS:\n",
      "  0: NP(NUM)\n",
      "  1: NOM(TEXT)\n",
      "  2: PRENOM(TEXT)\n",
      "  3: REGION(TEXT)\n",
      "PRODUCTIONS:\n",
      "  0: NV(NUM)\n",
      "  1: NP(NUM)\n",
      "  2: QTE(NUM)\n",
      "SALES:\n",
      "  0: NV(NUM)\n",
      "  1: NB(NUM)\n",
      "  2: QTE(NUM)\n",
      "  3: DATES(NUM)\n",
      "  4: LIEU(TEXT)\n",
      "WINES1:\n",
      "  0: NV(NUM)\n",
      "  1: CRU(TEXT)\n",
      "  2: DEGRE(NUM)\n",
      "  3: MILL(NUM)\n",
      "WINES2:\n",
      "  0: NV(NUM)\n",
      "  1: CRU(TEXT)\n",
      "  2: DEGRE(NUM)\n",
      "  3: MILL(NUM)\n"
     ]
    }
   ],
   "source": [
    "# Write corresponding code here\n",
    "%sql DROP TABLE IF EXISTS WINES1;\n",
    "%sql DROP TABLE IF EXISTS PRODUCERS;\n",
    "%sql DROP TABLE IF EXISTS PRODUCTIONS;\n",
    "\n",
    "\n",
    "# Create WINES1 table\n",
    "%sql CREATE TABLE WINES1 AS \\\n",
    "SELECT DISTINCT NV, CRU, DEGRE, MILL \\\n",
    "FROM MASTER1;\n",
    "\n",
    "# Create PRODUCERS table\n",
    "%sql CREATE TABLE PRODUCERS AS \\\n",
    "SELECT DISTINCT NP, NOM, PRENOM, REGION \\\n",
    "FROM MASTER1;\n",
    "\n",
    "# Create PRODUCTIONS table\n",
    "%sql CREATE TABLE PRODUCTIONS AS \\\n",
    "SELECT DISTINCT NV, NP, QTE \\\n",
    "FROM MASTER1;\n",
    "\n",
    "\n",
    "print(\"\\nContent of the database\")\n",
    "printSchema(conn)\n",
    "\n",
    "# Write corresponding code here\n",
    "%sql DROP TABLE IF EXISTS WINES2;\n",
    "%sql DROP TABLE IF EXISTS CLIENTS;\n",
    "%sql DROP TABLE IF EXISTS SALES;\n",
    "%sql DROP TABLE IF EXISTS LOC;\n",
    "\n",
    "\n",
    "# Create WINES2 table\n",
    "%sql CREATE TABLE WINES2 AS \\\n",
    "SELECT DISTINCT NV, CRU, DEGRE, MILL \\\n",
    "FROM MASTER2;\n",
    "\n",
    "# Create CLIENTS table\n",
    "%sql CREATE TABLE CLIENTS AS \\\n",
    "SELECT DISTINCT NB, NOM, PRENOM, TYPE \\\n",
    "FROM MASTER2;\n",
    "\n",
    "# Create SALES table\n",
    "%sql CREATE TABLE SALES AS \\\n",
    "SELECT DISTINCT NV, NB, QTE, DATES, LIEU \\\n",
    "FROM MASTER2;\n",
    "\n",
    "# Create LOC table\n",
    "%sql CREATE TABLE LOC AS \\\n",
    "SELECT DISTINCT LIEU, REGION \\\n",
    "FROM MASTER2;\n",
    "\n",
    "\n",
    "print(\"\\nContent of the database\")\n",
    "printSchema(conn)"
   ]
  },
  {
   "cell_type": "markdown",
   "metadata": {
    "collapsed": true,
    "id": "aUnv_i5Qgg91"
   },
   "source": [
    "___\n",
    "# PART I: CREATE AND USE VIEWS\n",
    "\n",
    "A view is a virtual table based on the result-set of an SQL statement. Views are stored in the database with an associated name.\n",
    "\n",
    "Views are created following the syntax:\n",
    "\n",
    "```sql\n",
    "CREATE VIEW view_name AS\n",
    "SELECT column1, column2.....\n",
    "FROM table_name\n",
    "WHERE [condition];\n",
    "```\n",
    "\n",
    "An useful command is:\n",
    "\n",
    "```sql\n",
    "DROP VIEW IF EXISTS view_name;\n",
    "```\n",
    "\n",
    "\n",
    "__Note:__ Use it with caution (only drop something if you are sure)"
   ]
  },
  {
   "cell_type": "markdown",
   "metadata": {
    "id": "guW3K1hdgg92"
   },
   "source": [
    "__1.1__ Create a view 'bons_buveurs' with the clients (buveurs) of type 'gros' or 'moyen'."
   ]
  },
  {
   "cell_type": "code",
   "execution_count": 6,
   "metadata": {
    "id": "Lsv4iJ0fgg92"
   },
   "outputs": [
    {
     "data": {
      "text/html": [
       "<span style=\"None\">Running query in &#x27;sqlite:///wine.db&#x27;</span>"
      ],
      "text/plain": [
       "Running query in 'sqlite:///wine.db'"
      ]
     },
     "metadata": {},
     "output_type": "display_data"
    },
    {
     "data": {
      "text/plain": []
     },
     "execution_count": 6,
     "metadata": {},
     "output_type": "execute_result"
    }
   ],
   "source": [
    "%%sql DROP VIEW IF EXISTS bons_buveurs;\n",
    "CREATE VIEW bons_buveurs AS\n",
    "SELECT *\n",
    "FROM CLIENTS\n",
    "WHERE TYPE = \"moyen\" OR TYPE = \"gros\";"
   ]
  },
  {
   "cell_type": "code",
   "execution_count": 7,
   "metadata": {
    "id": "S3c3vsE_gg92",
    "outputId": "00b4e7c5-c1cf-4700-cd0a-f29e32af3fba",
    "scrolled": true
   },
   "outputs": [
    {
     "data": {
      "text/html": [
       "<span style=\"None\">Running query in &#x27;sqlite:///wine.db&#x27;</span>"
      ],
      "text/plain": [
       "Running query in 'sqlite:///wine.db'"
      ]
     },
     "metadata": {},
     "output_type": "display_data"
    },
    {
     "data": {
      "text/html": [
       "<table>\n",
       "    <thead>\n",
       "        <tr>\n",
       "            <th>NB</th>\n",
       "            <th>NOM</th>\n",
       "            <th>PRENOM</th>\n",
       "            <th>TYPE</th>\n",
       "        </tr>\n",
       "    </thead>\n",
       "    <tbody>\n",
       "        <tr>\n",
       "            <td>2</td>\n",
       "            <td>Artaud</td>\n",
       "            <td>Antonin</td>\n",
       "            <td>moyen</td>\n",
       "        </tr>\n",
       "        <tr>\n",
       "            <td>3</td>\n",
       "            <td>Aron</td>\n",
       "            <td>Raymond</td>\n",
       "            <td>gros</td>\n",
       "        </tr>\n",
       "        <tr>\n",
       "            <td>4</td>\n",
       "            <td>Apollinaire</td>\n",
       "            <td>Guillaume</td>\n",
       "            <td>moyen</td>\n",
       "        </tr>\n",
       "        <tr>\n",
       "            <td>6</td>\n",
       "            <td>Arrabal</td>\n",
       "            <td>Fernando</td>\n",
       "            <td>gros</td>\n",
       "        </tr>\n",
       "        <tr>\n",
       "            <td>7</td>\n",
       "            <td>Anouilh</td>\n",
       "            <td>Jean</td>\n",
       "            <td>moyen</td>\n",
       "        </tr>\n",
       "        <tr>\n",
       "            <td>8</td>\n",
       "            <td>Aragon</td>\n",
       "            <td>Louis</td>\n",
       "            <td>gros</td>\n",
       "        </tr>\n",
       "        <tr>\n",
       "            <td>10</td>\n",
       "            <td>Andersen</td>\n",
       "            <td>Yann</td>\n",
       "            <td>gros</td>\n",
       "        </tr>\n",
       "        <tr>\n",
       "            <td>12</td>\n",
       "            <td>Bataille</td>\n",
       "            <td>Georges</td>\n",
       "            <td>moyen</td>\n",
       "        </tr>\n",
       "        <tr>\n",
       "            <td>13</td>\n",
       "            <td>Barthes</td>\n",
       "            <td>Roland</td>\n",
       "            <td>moyen</td>\n",
       "        </tr>\n",
       "        <tr>\n",
       "            <td>14</td>\n",
       "            <td>Bory</td>\n",
       "            <td>Jean Louis</td>\n",
       "            <td>gros</td>\n",
       "        </tr>\n",
       "    </tbody>\n",
       "</table>\n",
       "<span style=\"font-style:italic;text-align:center;\">56 rows, truncated to displaylimit of 10</span><br><span style=\"font-style:italic;text-align:center;\">If you want to see more, please visit <a href=\"https://jupysql.ploomber.io/en/latest/api/configuration.html#displaylimit\">displaylimit</a> configuration</span>"
      ],
      "text/plain": [
       "+----+-------------+------------+-------+\n",
       "| NB |     NOM     |   PRENOM   |  TYPE |\n",
       "+----+-------------+------------+-------+\n",
       "| 2  |    Artaud   |  Antonin   | moyen |\n",
       "| 3  |     Aron    |  Raymond   |  gros |\n",
       "| 4  | Apollinaire | Guillaume  | moyen |\n",
       "| 6  |   Arrabal   |  Fernando  |  gros |\n",
       "| 7  |   Anouilh   |    Jean    | moyen |\n",
       "| 8  |    Aragon   |   Louis    |  gros |\n",
       "| 10 |   Andersen  |    Yann    |  gros |\n",
       "| 12 |   Bataille  |  Georges   | moyen |\n",
       "| 13 |   Barthes   |   Roland   | moyen |\n",
       "| 14 |     Bory    | Jean Louis |  gros |\n",
       "+----+-------------+------------+-------+"
      ]
     },
     "execution_count": 7,
     "metadata": {},
     "output_type": "execute_result"
    }
   ],
   "source": [
    "# Test\n",
    "%sql SELECT * FROM bons_buveurs ORDER BY nb;"
   ]
  },
  {
   "cell_type": "markdown",
   "metadata": {
    "id": "IpRNDURogg92"
   },
   "source": [
    "__1.2__ Create the view 'buveurs_asec' with clients (buveurs) who have not bought any wine."
   ]
  },
  {
   "cell_type": "code",
   "execution_count": 8,
   "metadata": {
    "id": "PYGAu-Fwgg92",
    "outputId": "92abbc74-04aa-401c-d6dc-1e1c3217f68c"
   },
   "outputs": [
    {
     "data": {
      "text/html": [
       "<span style=\"None\">Running query in &#x27;sqlite:///wine.db&#x27;</span>"
      ],
      "text/plain": [
       "Running query in 'sqlite:///wine.db'"
      ]
     },
     "metadata": {},
     "output_type": "display_data"
    },
    {
     "data": {
      "text/plain": []
     },
     "execution_count": 8,
     "metadata": {},
     "output_type": "execute_result"
    }
   ],
   "source": [
    "%%sql DROP VIEW IF EXISTS buveurs_asec;\n",
    "CREATE VIEW buveurs_asec AS\n",
    "SELECT *\n",
    "FROM CLIENTS\n",
    "WHERE NB NOT IN\n",
    "    (SELECT DISTINCT c.NB\n",
    "    FROM WINES2 AS w\n",
    "        JOIN SALES AS s ON w.NV = s.NV AND QTE > 0\n",
    "        JOIN CLIENTS AS c ON s.NB = c.NB)\n",
    "ORDER BY NB ASC;"
   ]
  },
  {
   "cell_type": "code",
   "execution_count": 9,
   "metadata": {
    "id": "PMQIt_-sgg92",
    "outputId": "64caf585-3028-4971-8e6a-7fc6a57084f8",
    "scrolled": true
   },
   "outputs": [
    {
     "data": {
      "text/html": [
       "<span style=\"None\">Running query in &#x27;sqlite:///wine.db&#x27;</span>"
      ],
      "text/plain": [
       "Running query in 'sqlite:///wine.db'"
      ]
     },
     "metadata": {},
     "output_type": "display_data"
    },
    {
     "data": {
      "text/html": [
       "<table>\n",
       "    <thead>\n",
       "        <tr>\n",
       "            <th>NB</th>\n",
       "            <th>NOM</th>\n",
       "            <th>PRENOM</th>\n",
       "            <th>TYPE</th>\n",
       "        </tr>\n",
       "    </thead>\n",
       "    <tbody>\n",
       "        <tr>\n",
       "            <td>11</td>\n",
       "            <td>Breton</td>\n",
       "            <td>Andre</td>\n",
       "            <td>petit</td>\n",
       "        </tr>\n",
       "        <tr>\n",
       "            <td>13</td>\n",
       "            <td>Barthes</td>\n",
       "            <td>Roland</td>\n",
       "            <td>moyen</td>\n",
       "        </tr>\n",
       "        <tr>\n",
       "            <td>16</td>\n",
       "            <td>Balzac</td>\n",
       "            <td>Honore de</td>\n",
       "            <td>moyen</td>\n",
       "        </tr>\n",
       "        <tr>\n",
       "            <td>18</td>\n",
       "            <td>Celine</td>\n",
       "            <td>Louis Ferdinand</td>\n",
       "            <td>gros</td>\n",
       "        </tr>\n",
       "        <tr>\n",
       "            <td>20</td>\n",
       "            <td>Chateaubriand</td>\n",
       "            <td>Francois-Rene de</td>\n",
       "            <td>moyen</td>\n",
       "        </tr>\n",
       "        <tr>\n",
       "            <td>21</td>\n",
       "            <td>Corbiere</td>\n",
       "            <td>Tristan</td>\n",
       "            <td>petit</td>\n",
       "        </tr>\n",
       "        <tr>\n",
       "            <td>23</td>\n",
       "            <td>Corneille</td>\n",
       "            <td>Pierre</td>\n",
       "            <td>petit</td>\n",
       "        </tr>\n",
       "        <tr>\n",
       "            <td>25</td>\n",
       "            <td>Char</td>\n",
       "            <td>Rene</td>\n",
       "            <td>petit</td>\n",
       "        </tr>\n",
       "        <tr>\n",
       "            <td>27</td>\n",
       "            <td>Dumas</td>\n",
       "            <td>Alexandre</td>\n",
       "            <td>gros</td>\n",
       "        </tr>\n",
       "        <tr>\n",
       "            <td>29</td>\n",
       "            <td>Fournier</td>\n",
       "            <td>Alain</td>\n",
       "            <td>petit</td>\n",
       "        </tr>\n",
       "    </tbody>\n",
       "</table>\n",
       "<span style=\"font-style:italic;text-align:center;\">57 rows, truncated to displaylimit of 10</span><br><span style=\"font-style:italic;text-align:center;\">If you want to see more, please visit <a href=\"https://jupysql.ploomber.io/en/latest/api/configuration.html#displaylimit\">displaylimit</a> configuration</span>"
      ],
      "text/plain": [
       "+----+---------------+------------------+-------+\n",
       "| NB |      NOM      |      PRENOM      |  TYPE |\n",
       "+----+---------------+------------------+-------+\n",
       "| 11 |     Breton    |      Andre       | petit |\n",
       "| 13 |    Barthes    |      Roland      | moyen |\n",
       "| 16 |     Balzac    |    Honore de     | moyen |\n",
       "| 18 |     Celine    | Louis Ferdinand  |  gros |\n",
       "| 20 | Chateaubriand | Francois-Rene de | moyen |\n",
       "| 21 |    Corbiere   |     Tristan      | petit |\n",
       "| 23 |   Corneille   |      Pierre      | petit |\n",
       "| 25 |      Char     |       Rene       | petit |\n",
       "| 27 |     Dumas     |    Alexandre     |  gros |\n",
       "| 29 |    Fournier   |      Alain       | petit |\n",
       "+----+---------------+------------------+-------+"
      ]
     },
     "execution_count": 9,
     "metadata": {},
     "output_type": "execute_result"
    }
   ],
   "source": [
    "# Test\n",
    "%sql SELECT * FROM buveurs_asec ORDER BY nb;"
   ]
  },
  {
   "cell_type": "markdown",
   "metadata": {
    "id": "PDbhjjSBgg93"
   },
   "source": [
    "__1.3__ Create the view 'buveurs_achats' complementary to the previous one."
   ]
  },
  {
   "cell_type": "code",
   "execution_count": 10,
   "metadata": {
    "id": "1uCLNms2gg93",
    "outputId": "a60537ec-0247-419d-957a-841a996cc897"
   },
   "outputs": [
    {
     "data": {
      "text/html": [
       "<span style=\"None\">Running query in &#x27;sqlite:///wine.db&#x27;</span>"
      ],
      "text/plain": [
       "Running query in 'sqlite:///wine.db'"
      ]
     },
     "metadata": {},
     "output_type": "display_data"
    },
    {
     "data": {
      "text/plain": []
     },
     "execution_count": 10,
     "metadata": {},
     "output_type": "execute_result"
    }
   ],
   "source": [
    "%%sql DROP VIEW IF EXISTS buveurs_achats;\n",
    "CREATE VIEW buveurs_achats AS\n",
    "SELECT *\n",
    "FROM CLIENTS\n",
    "WHERE NB NOT IN\n",
    "    (SELECT DISTINCT NB\n",
    "    FROM buveurs_asec)\n",
    "ORDER BY NB ASC;"
   ]
  },
  {
   "cell_type": "code",
   "execution_count": 11,
   "metadata": {
    "id": "nuQXZ0Bkgg93",
    "outputId": "eb00fc28-1ec4-4e38-cd14-0b94650f5e2f",
    "scrolled": true
   },
   "outputs": [
    {
     "data": {
      "text/html": [
       "<span style=\"None\">Running query in &#x27;sqlite:///wine.db&#x27;</span>"
      ],
      "text/plain": [
       "Running query in 'sqlite:///wine.db'"
      ]
     },
     "metadata": {},
     "output_type": "display_data"
    },
    {
     "data": {
      "text/html": [
       "<table>\n",
       "    <thead>\n",
       "        <tr>\n",
       "            <th>NB</th>\n",
       "            <th>NOM</th>\n",
       "            <th>PRENOM</th>\n",
       "            <th>TYPE</th>\n",
       "        </tr>\n",
       "    </thead>\n",
       "    <tbody>\n",
       "        <tr>\n",
       "            <td>1</td>\n",
       "            <td>Aristote</td>\n",
       "            <td>None</td>\n",
       "            <td>petit</td>\n",
       "        </tr>\n",
       "        <tr>\n",
       "            <td>2</td>\n",
       "            <td>Artaud</td>\n",
       "            <td>Antonin</td>\n",
       "            <td>moyen</td>\n",
       "        </tr>\n",
       "        <tr>\n",
       "            <td>3</td>\n",
       "            <td>Aron</td>\n",
       "            <td>Raymond</td>\n",
       "            <td>gros</td>\n",
       "        </tr>\n",
       "        <tr>\n",
       "            <td>4</td>\n",
       "            <td>Apollinaire</td>\n",
       "            <td>Guillaume</td>\n",
       "            <td>moyen</td>\n",
       "        </tr>\n",
       "        <tr>\n",
       "            <td>5</td>\n",
       "            <td>Audiberti</td>\n",
       "            <td>Jacques</td>\n",
       "            <td>petit</td>\n",
       "        </tr>\n",
       "        <tr>\n",
       "            <td>6</td>\n",
       "            <td>Arrabal</td>\n",
       "            <td>Fernando</td>\n",
       "            <td>gros</td>\n",
       "        </tr>\n",
       "        <tr>\n",
       "            <td>7</td>\n",
       "            <td>Anouilh</td>\n",
       "            <td>Jean</td>\n",
       "            <td>moyen</td>\n",
       "        </tr>\n",
       "        <tr>\n",
       "            <td>8</td>\n",
       "            <td>Aragon</td>\n",
       "            <td>Louis</td>\n",
       "            <td>gros</td>\n",
       "        </tr>\n",
       "        <tr>\n",
       "            <td>9</td>\n",
       "            <td>Ajar</td>\n",
       "            <td>Emile</td>\n",
       "            <td>petit</td>\n",
       "        </tr>\n",
       "        <tr>\n",
       "            <td>10</td>\n",
       "            <td>Andersen</td>\n",
       "            <td>Yann</td>\n",
       "            <td>gros</td>\n",
       "        </tr>\n",
       "    </tbody>\n",
       "</table>\n",
       "<span style=\"font-style:italic;text-align:center;\">43 rows, truncated to displaylimit of 10</span><br><span style=\"font-style:italic;text-align:center;\">If you want to see more, please visit <a href=\"https://jupysql.ploomber.io/en/latest/api/configuration.html#displaylimit\">displaylimit</a> configuration</span>"
      ],
      "text/plain": [
       "+----+-------------+-----------+-------+\n",
       "| NB |     NOM     |   PRENOM  |  TYPE |\n",
       "+----+-------------+-----------+-------+\n",
       "| 1  |   Aristote  |    None   | petit |\n",
       "| 2  |    Artaud   |  Antonin  | moyen |\n",
       "| 3  |     Aron    |  Raymond  |  gros |\n",
       "| 4  | Apollinaire | Guillaume | moyen |\n",
       "| 5  |  Audiberti  |  Jacques  | petit |\n",
       "| 6  |   Arrabal   |  Fernando |  gros |\n",
       "| 7  |   Anouilh   |    Jean   | moyen |\n",
       "| 8  |    Aragon   |   Louis   |  gros |\n",
       "| 9  |     Ajar    |   Emile   | petit |\n",
       "| 10 |   Andersen  |    Yann   |  gros |\n",
       "+----+-------------+-----------+-------+"
      ]
     },
     "execution_count": 11,
     "metadata": {},
     "output_type": "execute_result"
    }
   ],
   "source": [
    "# Test\n",
    "%sql SELECT * FROM buveurs_achats ORDER BY nb;"
   ]
  },
  {
   "cell_type": "markdown",
   "metadata": {
    "id": "ueAjZUAugg93"
   },
   "source": [
    "__1.4__ Create the view 'q83pl' (LIEU, CRU, QTE_BUE) that provides by LIEU and CRU the total quantities bought in 1983 by all the clients (buveurs)."
   ]
  },
  {
   "cell_type": "code",
   "execution_count": 12,
   "metadata": {
    "id": "2XnvYQdBgg93",
    "outputId": "85234a54-f25b-4088-c30a-2e4ba0650e90"
   },
   "outputs": [
    {
     "data": {
      "text/html": [
       "<span style=\"None\">Running query in &#x27;sqlite:///wine.db&#x27;</span>"
      ],
      "text/plain": [
       "Running query in 'sqlite:///wine.db'"
      ]
     },
     "metadata": {},
     "output_type": "display_data"
    },
    {
     "data": {
      "text/plain": []
     },
     "execution_count": 12,
     "metadata": {},
     "output_type": "execute_result"
    }
   ],
   "source": [
    "%%sql DROP VIEW IF EXISTS q83pl;\n",
    "CREATE VIEW q83pl AS\n",
    "SELECT s.LIEU, w.CRU, SUM(s.QTE) AS QTE_BUE\n",
    "FROM SALES AS s\n",
    "    JOIN WINES2 AS w ON s.DATES LIKE '1983%' AND s.NV = w.NV\n",
    "GROUP BY s.LIEU, w.CRU;"
   ]
  },
  {
   "cell_type": "code",
   "execution_count": 13,
   "metadata": {
    "id": "dFyUlEZggg93",
    "outputId": "51501c4e-a12c-4740-f6b1-1f5c7891a333",
    "scrolled": false
   },
   "outputs": [
    {
     "data": {
      "text/html": [
       "<span style=\"None\">Running query in &#x27;sqlite:///wine.db&#x27;</span>"
      ],
      "text/plain": [
       "Running query in 'sqlite:///wine.db'"
      ]
     },
     "metadata": {},
     "output_type": "display_data"
    },
    {
     "data": {
      "text/html": [
       "<table>\n",
       "    <thead>\n",
       "        <tr>\n",
       "            <th>LIEU</th>\n",
       "            <th>CRU</th>\n",
       "            <th>QTE_BUE</th>\n",
       "        </tr>\n",
       "    </thead>\n",
       "    <tbody>\n",
       "        <tr>\n",
       "            <td>CAEN</td>\n",
       "            <td>Seyssel</td>\n",
       "            <td>3</td>\n",
       "        </tr>\n",
       "        <tr>\n",
       "            <td>LILLE</td>\n",
       "            <td>Pommard</td>\n",
       "            <td>5</td>\n",
       "        </tr>\n",
       "        <tr>\n",
       "            <td>LYON</td>\n",
       "            <td>Beaujolais Villages</td>\n",
       "            <td>10</td>\n",
       "        </tr>\n",
       "        <tr>\n",
       "            <td>LYON</td>\n",
       "            <td>Julienas</td>\n",
       "            <td>2</td>\n",
       "        </tr>\n",
       "        <tr>\n",
       "            <td>PARIS</td>\n",
       "            <td>Beaujolais Primeur</td>\n",
       "            <td>4</td>\n",
       "        </tr>\n",
       "        <tr>\n",
       "            <td>PARIS</td>\n",
       "            <td>Coteaux du Tricastin</td>\n",
       "            <td>1</td>\n",
       "        </tr>\n",
       "        <tr>\n",
       "            <td>PARIS</td>\n",
       "            <td>Pouilly Vinzelles</td>\n",
       "            <td>3</td>\n",
       "        </tr>\n",
       "        <tr>\n",
       "            <td>RENNES</td>\n",
       "            <td>Mercurey</td>\n",
       "            <td>1</td>\n",
       "        </tr>\n",
       "        <tr>\n",
       "            <td>ROCQUENCOURT</td>\n",
       "            <td>Beaujolais Villages</td>\n",
       "            <td>260</td>\n",
       "        </tr>\n",
       "        <tr>\n",
       "            <td>ROCQUENCOURT</td>\n",
       "            <td>Saint Amour</td>\n",
       "            <td>80</td>\n",
       "        </tr>\n",
       "    </tbody>\n",
       "</table>"
      ],
      "text/plain": [
       "+--------------+----------------------+---------+\n",
       "|     LIEU     |         CRU          | QTE_BUE |\n",
       "+--------------+----------------------+---------+\n",
       "|     CAEN     |       Seyssel        |    3    |\n",
       "|    LILLE     |       Pommard        |    5    |\n",
       "|     LYON     | Beaujolais Villages  |    10   |\n",
       "|     LYON     |       Julienas       |    2    |\n",
       "|    PARIS     |  Beaujolais Primeur  |    4    |\n",
       "|    PARIS     | Coteaux du Tricastin |    1    |\n",
       "|    PARIS     |  Pouilly Vinzelles   |    3    |\n",
       "|    RENNES    |       Mercurey       |    1    |\n",
       "| ROCQUENCOURT | Beaujolais Villages  |   260   |\n",
       "| ROCQUENCOURT |     Saint Amour      |    80   |\n",
       "+--------------+----------------------+---------+"
      ]
     },
     "execution_count": 13,
     "metadata": {},
     "output_type": "execute_result"
    }
   ],
   "source": [
    "# Test\n",
    "%sql SELECT * FROM q83pl ORDER BY LIEU ASC, CRU ASC;"
   ]
  },
  {
   "cell_type": "markdown",
   "metadata": {
    "id": "CiOCkCz6gg93"
   },
   "source": [
    "__1.5__ Can we define the same view with ascending order over the attribute QTE? Provide an explanation for your answer."
   ]
  },
  {
   "cell_type": "markdown",
   "metadata": {
    "id": "tr7sZXwMgg93"
   },
   "source": [
    "**Answer**: Ordering a view does not have any sense because a Table is not ordered, only the visualisation of it can be ordered. Still, sqlite allows to order the content when creating a view."
   ]
  },
  {
   "cell_type": "markdown",
   "metadata": {
    "id": "KRgC72LVgg94"
   },
   "source": [
    "___\n",
    "# PART II: UPDATE DATABASE CONTENT\n",
    "\n",
    "The syntax for the Update statement is:\n",
    "\n",
    "```sql\n",
    "UPDATE table_name\n",
    "SET column1 = value1, column2 = value2...., columnN = valueN\n",
    "WHERE [condition];\n",
    "```\n",
    "\n",
    "The syntax for the Insert statement is:\n",
    "\n",
    "```sql\n",
    "INSERT INTO TABLE_NAME [(column1, column2, column3,...columnN)]  \n",
    "VALUES (value1, value2, value3,...valueN);\n",
    "```\n",
    "\n",
    "\n",
    "Database updates are commited automatically in Jupyter/Python. _Transactions_ are an option to control and reverse changes. Additionally we can just reload a backup of the database (NOT an option in deployed systems)\n",
    "\n",
    "__Note:__ Different to other Database Management Systems, SQLite views are read-only and so you may not execute a DELETE, INSERT or UPDATE statement on a view."
   ]
  },
  {
   "cell_type": "markdown",
   "metadata": {
    "id": "OsrqNEIkgg94"
   },
   "source": [
    "__2.1__ Create a table 'RBB' with the same schema as 'bons_buveurs' which contains the tuples selected from 'bons_buveurs'"
   ]
  },
  {
   "cell_type": "code",
   "execution_count": 14,
   "metadata": {
    "id": "HHnfxi16gg94",
    "outputId": "e306264c-6054-49b6-8c61-a9e29c16081c"
   },
   "outputs": [
    {
     "data": {
      "text/html": [
       "<span style=\"None\">Running query in &#x27;sqlite:///wine.db&#x27;</span>"
      ],
      "text/plain": [
       "Running query in 'sqlite:///wine.db'"
      ]
     },
     "metadata": {},
     "output_type": "display_data"
    },
    {
     "data": {
      "text/plain": []
     },
     "execution_count": 14,
     "metadata": {},
     "output_type": "execute_result"
    }
   ],
   "source": [
    "%%sql DROP TABLE IF EXISTS RBB;\n",
    "CREATE TABLE RBB AS\n",
    "SELECT *\n",
    "FROM bons_buveurs;"
   ]
  },
  {
   "cell_type": "code",
   "execution_count": 15,
   "metadata": {
    "id": "08Bc_XOAgg94",
    "outputId": "10f0f585-f920-450f-981d-3af49c3e5a84",
    "scrolled": true
   },
   "outputs": [
    {
     "data": {
      "text/html": [
       "<span style=\"None\">Running query in &#x27;sqlite:///wine.db&#x27;</span>"
      ],
      "text/plain": [
       "Running query in 'sqlite:///wine.db'"
      ]
     },
     "metadata": {},
     "output_type": "display_data"
    },
    {
     "data": {
      "text/html": [
       "<table>\n",
       "    <thead>\n",
       "        <tr>\n",
       "            <th>NB</th>\n",
       "            <th>NOM</th>\n",
       "            <th>PRENOM</th>\n",
       "            <th>TYPE</th>\n",
       "        </tr>\n",
       "    </thead>\n",
       "    <tbody>\n",
       "        <tr>\n",
       "            <td>13</td>\n",
       "            <td>Barthes</td>\n",
       "            <td>Roland</td>\n",
       "            <td>moyen</td>\n",
       "        </tr>\n",
       "        <tr>\n",
       "            <td>16</td>\n",
       "            <td>Balzac</td>\n",
       "            <td>Honore de</td>\n",
       "            <td>moyen</td>\n",
       "        </tr>\n",
       "        <tr>\n",
       "            <td>18</td>\n",
       "            <td>Celine</td>\n",
       "            <td>Louis Ferdinand</td>\n",
       "            <td>gros</td>\n",
       "        </tr>\n",
       "        <tr>\n",
       "            <td>20</td>\n",
       "            <td>Chateaubriand</td>\n",
       "            <td>Francois-Rene de</td>\n",
       "            <td>moyen</td>\n",
       "        </tr>\n",
       "        <tr>\n",
       "            <td>27</td>\n",
       "            <td>Dumas</td>\n",
       "            <td>Alexandre</td>\n",
       "            <td>gros</td>\n",
       "        </tr>\n",
       "        <tr>\n",
       "            <td>32</td>\n",
       "            <td>Eluard</td>\n",
       "            <td>Paul</td>\n",
       "            <td>moyen</td>\n",
       "        </tr>\n",
       "        <tr>\n",
       "            <td>35</td>\n",
       "            <td>Fromentin</td>\n",
       "            <td>Eugene</td>\n",
       "            <td>gros</td>\n",
       "        </tr>\n",
       "        <tr>\n",
       "            <td>39</td>\n",
       "            <td>Montesquieu</td>\n",
       "            <td>None</td>\n",
       "            <td>gros</td>\n",
       "        </tr>\n",
       "        <tr>\n",
       "            <td>42</td>\n",
       "            <td>Goethe</td>\n",
       "            <td>Johann Wolfgang von</td>\n",
       "            <td>moyen</td>\n",
       "        </tr>\n",
       "        <tr>\n",
       "            <td>43</td>\n",
       "            <td>Musset</td>\n",
       "            <td>Alfred de</td>\n",
       "            <td>gros</td>\n",
       "        </tr>\n",
       "    </tbody>\n",
       "</table>\n",
       "<span style=\"font-style:italic;text-align:center;\">56 rows, truncated to displaylimit of 10</span><br><span style=\"font-style:italic;text-align:center;\">If you want to see more, please visit <a href=\"https://jupysql.ploomber.io/en/latest/api/configuration.html#displaylimit\">displaylimit</a> configuration</span>"
      ],
      "text/plain": [
       "+----+---------------+---------------------+-------+\n",
       "| NB |      NOM      |        PRENOM       |  TYPE |\n",
       "+----+---------------+---------------------+-------+\n",
       "| 13 |    Barthes    |        Roland       | moyen |\n",
       "| 16 |     Balzac    |      Honore de      | moyen |\n",
       "| 18 |     Celine    |   Louis Ferdinand   |  gros |\n",
       "| 20 | Chateaubriand |   Francois-Rene de  | moyen |\n",
       "| 27 |     Dumas     |      Alexandre      |  gros |\n",
       "| 32 |     Eluard    |         Paul        | moyen |\n",
       "| 35 |   Fromentin   |        Eugene       |  gros |\n",
       "| 39 |  Montesquieu  |         None        |  gros |\n",
       "| 42 |     Goethe    | Johann Wolfgang von | moyen |\n",
       "| 43 |     Musset    |      Alfred de      |  gros |\n",
       "+----+---------------+---------------------+-------+"
      ]
     },
     "execution_count": 15,
     "metadata": {},
     "output_type": "execute_result"
    }
   ],
   "source": [
    "# Test\n",
    "%sql SELECT * FROM RBB;"
   ]
  },
  {
   "cell_type": "markdown",
   "metadata": {
    "id": "TBXlnVpAgg94"
   },
   "source": [
    "__2.2__ Update the table you used to create 'bons_buveurs': Change the 'type' to 'gros' if the total of quantities bought is over 100."
   ]
  },
  {
   "cell_type": "markdown",
   "metadata": {
    "id": "BMBO2P2Egg94"
   },
   "source": [
    "Find the instances to update (schema may be different from the one in your table)"
   ]
  },
  {
   "cell_type": "code",
   "execution_count": 16,
   "metadata": {
    "id": "UM3193Ydgg94",
    "outputId": "bbcf2fcb-193a-481c-e456-4a1c45436afd"
   },
   "outputs": [
    {
     "data": {
      "text/html": [
       "<span style=\"None\">Running query in &#x27;sqlite:///wine.db&#x27;</span>"
      ],
      "text/plain": [
       "Running query in 'sqlite:///wine.db'"
      ]
     },
     "metadata": {},
     "output_type": "display_data"
    },
    {
     "data": {
      "text/html": [
       "<table>\n",
       "    <thead>\n",
       "        <tr>\n",
       "            <th>NB</th>\n",
       "            <th>NOM</th>\n",
       "            <th>PRENOM</th>\n",
       "            <th>TYPE</th>\n",
       "        </tr>\n",
       "    </thead>\n",
       "    <tbody>\n",
       "        <tr>\n",
       "            <td>2</td>\n",
       "            <td>Artaud</td>\n",
       "            <td>Antonin</td>\n",
       "            <td>moyen</td>\n",
       "        </tr>\n",
       "    </tbody>\n",
       "</table>"
      ],
      "text/plain": [
       "+----+--------+---------+-------+\n",
       "| NB |  NOM   |  PRENOM |  TYPE |\n",
       "+----+--------+---------+-------+\n",
       "| 2  | Artaud | Antonin | moyen |\n",
       "+----+--------+---------+-------+"
      ]
     },
     "execution_count": 16,
     "metadata": {},
     "output_type": "execute_result"
    }
   ],
   "source": [
    "%%sql\n",
    "SELECT * FROM RBB\n",
    "WHERE TYPE = \"moyen\" AND NB IN\n",
    "    (SELECT NB\n",
    "    FROM SALES\n",
    "    GROUP BY NB\n",
    "    HAVING SUM(QTE) > 99)"
   ]
  },
  {
   "cell_type": "markdown",
   "metadata": {
    "id": "67Tppp9Lgg94"
   },
   "source": [
    "Update instances"
   ]
  },
  {
   "cell_type": "code",
   "execution_count": 17,
   "metadata": {
    "id": "l4iknQTXgg94",
    "outputId": "3024c484-fecd-42ba-900a-808caa40750b"
   },
   "outputs": [
    {
     "data": {
      "text/html": [
       "<span style=\"None\">Running query in &#x27;sqlite:///wine.db&#x27;</span>"
      ],
      "text/plain": [
       "Running query in 'sqlite:///wine.db'"
      ]
     },
     "metadata": {},
     "output_type": "display_data"
    },
    {
     "data": {
      "text/html": [
       "<span style=\"color: green\">1 rows affected.</span>"
      ],
      "text/plain": [
       "1 rows affected."
      ]
     },
     "metadata": {},
     "output_type": "display_data"
    },
    {
     "data": {
      "text/plain": []
     },
     "execution_count": 17,
     "metadata": {},
     "output_type": "execute_result"
    }
   ],
   "source": [
    "%%sql\n",
    "UPDATE RBB\n",
    "SET TYPE = \"gros\"\n",
    "WHERE NB IN \n",
    "    (SELECT NB FROM RBB\n",
    "    WHERE TYPE = \"moyen\" AND NB IN\n",
    "        (SELECT NB\n",
    "        FROM SALES\n",
    "        GROUP BY NB\n",
    "        HAVING SUM(QTE) > 99));"
   ]
  },
  {
   "cell_type": "markdown",
   "metadata": {
    "id": "dXDDAqGggg94"
   },
   "source": [
    "__2.3__ Compare the content of _table_ 'RBB' and the _view_ 'bons_buveurs' after the update. What differences do you see? Explain"
   ]
  },
  {
   "cell_type": "markdown",
   "metadata": {
    "collapsed": true,
    "id": "PpYRGmc5gg94"
   },
   "source": [
    "**Answer**: We can see that it changes the `TYPE` attribute for 1 instance."
   ]
  },
  {
   "cell_type": "code",
   "execution_count": 18,
   "metadata": {
    "id": "lypcp8GMgg94",
    "scrolled": true
   },
   "outputs": [
    {
     "data": {
      "text/html": [
       "<span style=\"None\">Running query in &#x27;sqlite:///wine.db&#x27;</span>"
      ],
      "text/plain": [
       "Running query in 'sqlite:///wine.db'"
      ]
     },
     "metadata": {},
     "output_type": "display_data"
    },
    {
     "data": {
      "text/html": [
       "<table>\n",
       "    <thead>\n",
       "        <tr>\n",
       "            <th>NB</th>\n",
       "            <th>NOM</th>\n",
       "            <th>PRENOM</th>\n",
       "            <th>UPDATE_TYPE</th>\n",
       "            <th>PREVIOUS_TYPE</th>\n",
       "        </tr>\n",
       "    </thead>\n",
       "    <tbody>\n",
       "        <tr>\n",
       "            <td>2</td>\n",
       "            <td>Artaud</td>\n",
       "            <td>Antonin</td>\n",
       "            <td>gros</td>\n",
       "            <td>moyen</td>\n",
       "        </tr>\n",
       "    </tbody>\n",
       "</table>"
      ],
      "text/plain": [
       "+----+--------+---------+-------------+---------------+\n",
       "| NB |  NOM   |  PRENOM | UPDATE_TYPE | PREVIOUS_TYPE |\n",
       "+----+--------+---------+-------------+---------------+\n",
       "| 2  | Artaud | Antonin |     gros    |     moyen     |\n",
       "+----+--------+---------+-------------+---------------+"
      ]
     },
     "execution_count": 18,
     "metadata": {},
     "output_type": "execute_result"
    }
   ],
   "source": [
    "%%sql\n",
    "SELECT RBB.nb, RBB.NOM, RBB.PRENOM, RBB.TYPE AS UPDATE_TYPE, bb.TYPE AS PREVIOUS_TYPE\n",
    "FROM RBB\n",
    "JOIN bons_buveurs AS bb ON RBB.nb = bb.nb AND RBB.TYPE <> bb.TYPE;"
   ]
  },
  {
   "cell_type": "markdown",
   "metadata": {
    "id": "Q0z1la0ygg94"
   },
   "source": [
    "__2.4__ Create a table 'RBA' with the same schema as 'buveurs_asec' which contains the tuples selected from 'buveurs_asec'"
   ]
  },
  {
   "cell_type": "code",
   "execution_count": 19,
   "metadata": {
    "id": "JIeKS-isgg95",
    "outputId": "d8e6cfb5-3d60-419e-925c-e5326ed93eaf"
   },
   "outputs": [
    {
     "data": {
      "text/html": [
       "<span style=\"None\">Running query in &#x27;sqlite:///wine.db&#x27;</span>"
      ],
      "text/plain": [
       "Running query in 'sqlite:///wine.db'"
      ]
     },
     "metadata": {},
     "output_type": "display_data"
    },
    {
     "data": {
      "text/plain": []
     },
     "execution_count": 19,
     "metadata": {},
     "output_type": "execute_result"
    }
   ],
   "source": [
    "%%sql DROP TABLE IF EXISTS RBA;\n",
    "CREATE TABLE RBA AS\n",
    "SELECT *\n",
    "FROM buveurs_asec;"
   ]
  },
  {
   "cell_type": "code",
   "execution_count": 20,
   "metadata": {
    "id": "DO9i1xZpgg95",
    "outputId": "530a8393-27ad-43f2-ac93-e525b43b145d",
    "scrolled": true
   },
   "outputs": [
    {
     "data": {
      "text/html": [
       "<span style=\"None\">Running query in &#x27;sqlite:///wine.db&#x27;</span>"
      ],
      "text/plain": [
       "Running query in 'sqlite:///wine.db'"
      ]
     },
     "metadata": {},
     "output_type": "display_data"
    },
    {
     "data": {
      "text/html": [
       "<table>\n",
       "    <thead>\n",
       "        <tr>\n",
       "            <th>NB</th>\n",
       "            <th>NOM</th>\n",
       "            <th>PRENOM</th>\n",
       "            <th>TYPE</th>\n",
       "        </tr>\n",
       "    </thead>\n",
       "    <tbody>\n",
       "        <tr>\n",
       "            <td>11</td>\n",
       "            <td>Breton</td>\n",
       "            <td>Andre</td>\n",
       "            <td>petit</td>\n",
       "        </tr>\n",
       "        <tr>\n",
       "            <td>13</td>\n",
       "            <td>Barthes</td>\n",
       "            <td>Roland</td>\n",
       "            <td>moyen</td>\n",
       "        </tr>\n",
       "        <tr>\n",
       "            <td>16</td>\n",
       "            <td>Balzac</td>\n",
       "            <td>Honore de</td>\n",
       "            <td>moyen</td>\n",
       "        </tr>\n",
       "        <tr>\n",
       "            <td>18</td>\n",
       "            <td>Celine</td>\n",
       "            <td>Louis Ferdinand</td>\n",
       "            <td>gros</td>\n",
       "        </tr>\n",
       "        <tr>\n",
       "            <td>20</td>\n",
       "            <td>Chateaubriand</td>\n",
       "            <td>Francois-Rene de</td>\n",
       "            <td>moyen</td>\n",
       "        </tr>\n",
       "        <tr>\n",
       "            <td>21</td>\n",
       "            <td>Corbiere</td>\n",
       "            <td>Tristan</td>\n",
       "            <td>petit</td>\n",
       "        </tr>\n",
       "        <tr>\n",
       "            <td>23</td>\n",
       "            <td>Corneille</td>\n",
       "            <td>Pierre</td>\n",
       "            <td>petit</td>\n",
       "        </tr>\n",
       "        <tr>\n",
       "            <td>25</td>\n",
       "            <td>Char</td>\n",
       "            <td>Rene</td>\n",
       "            <td>petit</td>\n",
       "        </tr>\n",
       "        <tr>\n",
       "            <td>27</td>\n",
       "            <td>Dumas</td>\n",
       "            <td>Alexandre</td>\n",
       "            <td>gros</td>\n",
       "        </tr>\n",
       "        <tr>\n",
       "            <td>29</td>\n",
       "            <td>Fournier</td>\n",
       "            <td>Alain</td>\n",
       "            <td>petit</td>\n",
       "        </tr>\n",
       "    </tbody>\n",
       "</table>\n",
       "<span style=\"font-style:italic;text-align:center;\">57 rows, truncated to displaylimit of 10</span><br><span style=\"font-style:italic;text-align:center;\">If you want to see more, please visit <a href=\"https://jupysql.ploomber.io/en/latest/api/configuration.html#displaylimit\">displaylimit</a> configuration</span>"
      ],
      "text/plain": [
       "+----+---------------+------------------+-------+\n",
       "| NB |      NOM      |      PRENOM      |  TYPE |\n",
       "+----+---------------+------------------+-------+\n",
       "| 11 |     Breton    |      Andre       | petit |\n",
       "| 13 |    Barthes    |      Roland      | moyen |\n",
       "| 16 |     Balzac    |    Honore de     | moyen |\n",
       "| 18 |     Celine    | Louis Ferdinand  |  gros |\n",
       "| 20 | Chateaubriand | Francois-Rene de | moyen |\n",
       "| 21 |    Corbiere   |     Tristan      | petit |\n",
       "| 23 |   Corneille   |      Pierre      | petit |\n",
       "| 25 |      Char     |       Rene       | petit |\n",
       "| 27 |     Dumas     |    Alexandre     |  gros |\n",
       "| 29 |    Fournier   |      Alain       | petit |\n",
       "+----+---------------+------------------+-------+"
      ]
     },
     "execution_count": 20,
     "metadata": {},
     "output_type": "execute_result"
    }
   ],
   "source": [
    "# Test\n",
    "%sql SELECT * FROM RBA"
   ]
  },
  {
   "cell_type": "markdown",
   "metadata": {
    "id": "W3vUy0BQgg95"
   },
   "source": [
    "__2.5__ Insert a tuple (101, 'your last name', 'your first name', 'your type of purchases(petit, moyen, or gros)') to 'RBA'"
   ]
  },
  {
   "cell_type": "code",
   "execution_count": 21,
   "metadata": {
    "id": "klwkVwgugg95",
    "outputId": "cfecec60-cc67-4bd3-f1aa-df754f8a1650"
   },
   "outputs": [
    {
     "data": {
      "text/html": [
       "<span style=\"None\">Running query in &#x27;sqlite:///wine.db&#x27;</span>"
      ],
      "text/plain": [
       "Running query in 'sqlite:///wine.db'"
      ]
     },
     "metadata": {},
     "output_type": "display_data"
    },
    {
     "data": {
      "text/html": [
       "<span style=\"color: green\">1 rows affected.</span>"
      ],
      "text/plain": [
       "1 rows affected."
      ]
     },
     "metadata": {},
     "output_type": "display_data"
    },
    {
     "data": {
      "text/plain": []
     },
     "execution_count": 21,
     "metadata": {},
     "output_type": "execute_result"
    }
   ],
   "source": [
    "%%sql\n",
    "INSERT INTO RBA (NB, NOM, PRENOM, TYPE)\n",
    "VALUES (101, 'Ternot', 'Benjamin', 'moyen');"
   ]
  },
  {
   "cell_type": "code",
   "execution_count": 22,
   "metadata": {
    "id": "XD1lhYfTgg95",
    "outputId": "4c8e36a6-e768-4778-ac3f-93b001031f9c",
    "scrolled": true
   },
   "outputs": [
    {
     "data": {
      "text/html": [
       "<span style=\"None\">Running query in &#x27;sqlite:///wine.db&#x27;</span>"
      ],
      "text/plain": [
       "Running query in 'sqlite:///wine.db'"
      ]
     },
     "metadata": {},
     "output_type": "display_data"
    },
    {
     "data": {
      "text/html": [
       "<table>\n",
       "    <thead>\n",
       "        <tr>\n",
       "            <th>NB</th>\n",
       "            <th>NOM</th>\n",
       "            <th>PRENOM</th>\n",
       "            <th>TYPE</th>\n",
       "        </tr>\n",
       "    </thead>\n",
       "    <tbody>\n",
       "        <tr>\n",
       "            <td>101</td>\n",
       "            <td>Ternot</td>\n",
       "            <td>Benjamin</td>\n",
       "            <td>moyen</td>\n",
       "        </tr>\n",
       "        <tr>\n",
       "            <td>99</td>\n",
       "            <td>Cesar</td>\n",
       "            <td>Jules</td>\n",
       "            <td>gros</td>\n",
       "        </tr>\n",
       "        <tr>\n",
       "            <td>98</td>\n",
       "            <td>Maturin</td>\n",
       "            <td>Robert</td>\n",
       "            <td>gros</td>\n",
       "        </tr>\n",
       "        <tr>\n",
       "            <td>95</td>\n",
       "            <td>Zorn</td>\n",
       "            <td>Fritz</td>\n",
       "            <td>moyen</td>\n",
       "        </tr>\n",
       "        <tr>\n",
       "            <td>93</td>\n",
       "            <td>Virgile</td>\n",
       "            <td>None</td>\n",
       "            <td>gros</td>\n",
       "        </tr>\n",
       "        <tr>\n",
       "            <td>91</td>\n",
       "            <td>Verlaine</td>\n",
       "            <td>Paul</td>\n",
       "            <td>gros</td>\n",
       "        </tr>\n",
       "        <tr>\n",
       "            <td>90</td>\n",
       "            <td>Vian</td>\n",
       "            <td>Boris</td>\n",
       "            <td>petit</td>\n",
       "        </tr>\n",
       "        <tr>\n",
       "            <td>89</td>\n",
       "            <td>Stendhal</td>\n",
       "            <td>None</td>\n",
       "            <td>petit</td>\n",
       "        </tr>\n",
       "        <tr>\n",
       "            <td>88</td>\n",
       "            <td>Shakespeare</td>\n",
       "            <td>William</td>\n",
       "            <td>petit</td>\n",
       "        </tr>\n",
       "        <tr>\n",
       "            <td>87</td>\n",
       "            <td>Segur</td>\n",
       "            <td>Comtesse de</td>\n",
       "            <td>gros</td>\n",
       "        </tr>\n",
       "    </tbody>\n",
       "</table>\n",
       "<span style=\"font-style:italic;text-align:center;\">58 rows, truncated to displaylimit of 10</span><br><span style=\"font-style:italic;text-align:center;\">If you want to see more, please visit <a href=\"https://jupysql.ploomber.io/en/latest/api/configuration.html#displaylimit\">displaylimit</a> configuration</span>"
      ],
      "text/plain": [
       "+-----+-------------+-------------+-------+\n",
       "|  NB |     NOM     |    PRENOM   |  TYPE |\n",
       "+-----+-------------+-------------+-------+\n",
       "| 101 |    Ternot   |   Benjamin  | moyen |\n",
       "|  99 |    Cesar    |    Jules    |  gros |\n",
       "|  98 |   Maturin   |    Robert   |  gros |\n",
       "|  95 |     Zorn    |    Fritz    | moyen |\n",
       "|  93 |   Virgile   |     None    |  gros |\n",
       "|  91 |   Verlaine  |     Paul    |  gros |\n",
       "|  90 |     Vian    |    Boris    | petit |\n",
       "|  89 |   Stendhal  |     None    | petit |\n",
       "|  88 | Shakespeare |   William   | petit |\n",
       "|  87 |    Segur    | Comtesse de |  gros |\n",
       "+-----+-------------+-------------+-------+"
      ]
     },
     "execution_count": 22,
     "metadata": {},
     "output_type": "execute_result"
    }
   ],
   "source": [
    "# Test\n",
    "%sql SELECT * FROM RBA ORDER BY NB DESC;"
   ]
  },
  {
   "cell_type": "markdown",
   "metadata": {
    "id": "rmlBrzSrgg95"
   },
   "source": [
    "__2.6__ Compare the content of _table_ 'RBA' and the _view_ 'buveurs_asec'. What differences do you see? Explain"
   ]
  },
  {
   "cell_type": "markdown",
   "metadata": {
    "id": "ZfOku2ikgg95"
   },
   "source": [
    "**Answer**: Well, in Table `RBA`, there is the instance for myself."
   ]
  },
  {
   "cell_type": "code",
   "execution_count": 23,
   "metadata": {
    "id": "X6zwsBYjgg95"
   },
   "outputs": [
    {
     "data": {
      "text/html": [
       "<span style=\"None\">Running query in &#x27;sqlite:///wine.db&#x27;</span>"
      ],
      "text/plain": [
       "Running query in 'sqlite:///wine.db'"
      ]
     },
     "metadata": {},
     "output_type": "display_data"
    },
    {
     "data": {
      "text/html": [
       "<table>\n",
       "    <thead>\n",
       "        <tr>\n",
       "            <th>NB</th>\n",
       "            <th>NOM</th>\n",
       "            <th>PRENOM</th>\n",
       "            <th>TYPE</th>\n",
       "        </tr>\n",
       "    </thead>\n",
       "    <tbody>\n",
       "        <tr>\n",
       "            <td>101</td>\n",
       "            <td>Ternot</td>\n",
       "            <td>Benjamin</td>\n",
       "            <td>moyen</td>\n",
       "        </tr>\n",
       "    </tbody>\n",
       "</table>"
      ],
      "text/plain": [
       "+-----+--------+----------+-------+\n",
       "|  NB |  NOM   |  PRENOM  |  TYPE |\n",
       "+-----+--------+----------+-------+\n",
       "| 101 | Ternot | Benjamin | moyen |\n",
       "+-----+--------+----------+-------+"
      ]
     },
     "execution_count": 23,
     "metadata": {},
     "output_type": "execute_result"
    }
   ],
   "source": [
    "%%sql\n",
    "SELECT *\n",
    "FROM RBA\n",
    "WHERE (NB, NOM, PRENOM, TYPE) NOT IN buveurs_asec;"
   ]
  },
  {
   "cell_type": "markdown",
   "metadata": {
    "id": "eD8amwE9gg95"
   },
   "source": [
    "___\n",
    "# PART III: Design the database schema for a marketplace\n",
    "\n",
    "We consider the following scenario:\n",
    "\n",
    "You are a developer for a game. In the game, there are several kinds of objects that the players can collect (e.g. magical flowers, gems, etc.). Players can also sell or buy objects from a marketplace that works in the following way: players declare some of the objects in their possession as “buyable”\n",
    "with a price for each buyable object and then any player can buy items marked as buyable. When a player buys an item, the possession of the item is transferred to the buyer while the money corresponding to the item is transferred from the buyer to the seller. Note that, as long as the item is not sold, it still belongs to the player. Your goal is to\n",
    "create a database for this marketplace.\n",
    "\n",
    "The database schema you will develop needs to support players, the money each player has, the various types\n",
    "of objects present in the game and how many objects of each kind each player has.Your database need to be able\n",
    "to support the following kind of operations:\n",
    "\n",
    "* Create a new type of object or add new players,\n",
    "* Change the name of a type of objects or the name of a player,\n",
    "* Attribute an object of a given type to a player,\n",
    "* Increase or decrease the amount of money a player has,\n",
    "* Retrieve the list of all the items that a player has,\n",
    "* Compute the current balance of a player,\n",
    "* Allow a player to mark one of their item as buyable with a given price,\n",
    "* Allow a player to buy the cheapest item of a given type from the marketplace.\n",
    "\n",
    "Ideally your schema should enforce the following constraints:\n",
    "\n",
    "* All the objects that the players have correspond to some known type,\n",
    "* Each object is possessed by exactly one player,\n",
    "* Any single object cannot be marked twice as buyable, nor it can have two different prices (but two different objects of the same kind can have different prices),\n",
    "* Any player has a positive amount of money."
   ]
  },
  {
   "cell_type": "markdown",
   "metadata": {
    "id": "HAu_5PJ7gg95"
   },
   "source": [
    "__3.1__ Draw an entity-relationship model for the scenario.\n",
    "\n",
    "_to answer, you can for example join a figure with the notebook or write the information related to the entity and relationship sets_"
   ]
  },
  {
   "cell_type": "markdown",
   "metadata": {},
   "source": [
    "* Tables:\n",
    "\n",
    "| Players |                                      |\n",
    "| ------- | ------------------------------------ |\n",
    "| ID      | Number id of the player (Primary Key) |\n",
    "| NAME    | Name of the player                    |\n",
    "| BALANCE | Amount of money the player has (Positive value)       |  \n",
    "\n",
    "| Object_Types |                                  |\n",
    "| ------------ | -------------------------------- |\n",
    "| ID           | Number id of an object type  (Primary Key)    |\n",
    "| NAME         | Name of an object type            |\n",
    "\n",
    "| Objects |                                                 |\n",
    "| ------- | ----------------------------------------------- |\n",
    "| ID      | Number id of an object  (Primary Key)                         |\n",
    "| TYPE_ID | Id of the Type of the object (Foreign Key referencing `Object_Types.ID`)       |\n",
    "| OWNER_ID| Id of the player that possesses the object (Foreign Key referencing `Players.ID`) |  \n",
    "\n",
    "| Market_Place |                                        |\n",
    "| ------------ | -------------------------------------- |\n",
    "| OBJECT_ID    | Id of the object for sale (Foreign Key referencing `Objects.ID`, Unique)  |\n",
    "| PRICE        | Price for buying the object              |\n",
    "\n",
    "* Entities:  \n",
    "\n",
    "    * Player: Represents the players in the game.\n",
    "        Attributes: ID (Primary Key), Name, Balance\n",
    "\n",
    "    * Object_Type: Represents the various types of objects in the game.\n",
    "        Attributes: ID (Primary Key), Name\n",
    "\n",
    "    * Object: Represents the objects possessed by players.\n",
    "        Attributes: ID (Primary Key), Type_ID (Foreign Key referencing `Object_Type.ID`), Owner_ID (Foreign Key referencing `Player.ID`)\n",
    "\n",
    "    * Market_Place: Represents the marketplace where players can buy and sell objects.\n",
    "        Attributes: Object_ID (Foreign Key referencing `Object.ID`), Price\n",
    "\n",
    "* Relationships:\n",
    "\n",
    "    * Possession, Objects-Players (Many to one) : Indicates the ownership relationship between players and objects.\n",
    "        One player can possess many objects, but each object is possessed by only one player.\n",
    "\n",
    "    * Object_Type, Objects-Object_Type (Many to one) : Indicates the type of an object.\n",
    "        Each object belongs to a single specific object type.\n",
    "\n",
    "    * Buy/Sell, Objects-Market_Place (Many to one): Indicates the transactional relationship between players in the marketplace.\n",
    "        Players can buy and sell objects in the marketplace. Each object can be put in the marketplace but cannont be present in multiple instances"
   ]
  },
  {
   "cell_type": "markdown",
   "metadata": {
    "id": "PlmR4p9Rgg97"
   },
   "source": [
    "__3.2__ Deduce the relational scheme while precising the _primary_ and _foreign_ (if any) keys for each relation."
   ]
  },
  {
   "cell_type": "raw",
   "metadata": {
    "id": "FUfDgIs6gg97"
   },
   "source": [
    "                                                    \n",
    "                             +--------+---------+          +--------------------+\n",
    "                             |     Object       |          |    Market_Place    |\n",
    "    +-------------+          +--------+---------+ 0..N   1 +--------------------+\n",
    "    |   Player    |          | ID (PK)          |<---------| Object_ID (PK, FK) |\n",
    "    +-------------+ 1   0..N | Type_ID (FK)     |------+   | Price              |\n",
    "    | ID (PK)     |<---------| Owner_ID (FK)    | 0..N |   +--------------------+\n",
    "    | Name        |          +------------------+      |\n",
    "    | Balance     |                                    |\n",
    "    +-------------+           +---------------+        |\n",
    "                              |  Object_Type  |        |\n",
    "                              +---------------+  1     |\n",
    "                              | ID (PK)       |<-------+\n",
    "                              | Name          |\n",
    "                              +---------------+"
   ]
  },
  {
   "cell_type": "markdown",
   "metadata": {},
   "source": [
    "In SQL, that would give something like that:"
   ]
  },
  {
   "cell_type": "code",
   "execution_count": 24,
   "metadata": {},
   "outputs": [
    {
     "data": {
      "text/html": [
       "<span style=\"None\">Running query in &#x27;sqlite:///game.db&#x27;</span>"
      ],
      "text/plain": [
       "Running query in 'sqlite:///game.db'"
      ]
     },
     "metadata": {},
     "output_type": "display_data"
    },
    {
     "data": {
      "text/html": [
       "<span style=\"None\">Running query in &#x27;sqlite:///game.db&#x27;</span>"
      ],
      "text/plain": [
       "Running query in 'sqlite:///game.db'"
      ]
     },
     "metadata": {},
     "output_type": "display_data"
    },
    {
     "data": {
      "text/html": [
       "<span style=\"None\">Running query in &#x27;sqlite:///game.db&#x27;</span>"
      ],
      "text/plain": [
       "Running query in 'sqlite:///game.db'"
      ]
     },
     "metadata": {},
     "output_type": "display_data"
    },
    {
     "data": {
      "text/html": [
       "<span style=\"None\">Running query in &#x27;sqlite:///game.db&#x27;</span>"
      ],
      "text/plain": [
       "Running query in 'sqlite:///game.db'"
      ]
     },
     "metadata": {},
     "output_type": "display_data"
    },
    {
     "data": {
      "text/html": [
       "<span style=\"None\">Running query in &#x27;sqlite:///game.db&#x27;</span>"
      ],
      "text/plain": [
       "Running query in 'sqlite:///game.db'"
      ]
     },
     "metadata": {},
     "output_type": "display_data"
    },
    {
     "data": {
      "text/html": [
       "<span style=\"None\">Running query in &#x27;sqlite:///game.db&#x27;</span>"
      ],
      "text/plain": [
       "Running query in 'sqlite:///game.db'"
      ]
     },
     "metadata": {},
     "output_type": "display_data"
    },
    {
     "data": {
      "text/html": [
       "<span style=\"None\">Running query in &#x27;sqlite:///game.db&#x27;</span>"
      ],
      "text/plain": [
       "Running query in 'sqlite:///game.db'"
      ]
     },
     "metadata": {},
     "output_type": "display_data"
    },
    {
     "data": {
      "text/html": [
       "<span style=\"None\">Running query in &#x27;sqlite:///game.db&#x27;</span>"
      ],
      "text/plain": [
       "Running query in 'sqlite:///game.db'"
      ]
     },
     "metadata": {},
     "output_type": "display_data"
    },
    {
     "data": {
      "text/plain": []
     },
     "execution_count": 24,
     "metadata": {},
     "output_type": "execute_result"
    }
   ],
   "source": [
    "%reload_ext sql\n",
    "%sql sqlite:///game.db\n",
    "\n",
    "%sql DROP TABLE IF EXISTS Players;\n",
    "%sql DROP TABLE IF EXISTS Object_Types;\n",
    "%sql DROP TABLE IF EXISTS Objects;\n",
    "%sql DROP TABLE IF EXISTS Market_Place;\n",
    "\n",
    "%sql CREATE TABLE Players (\\\n",
    "    ID INT PRIMARY KEY,\\\n",
    "    NAME VARCHAR(255),\\\n",
    "    BALANCE DECIMAL(10, 2) CHECK (BALANCE >= 0)\\\n",
    ");\n",
    "\n",
    "%sql CREATE TABLE Object_Types (\\\n",
    "    ID INT PRIMARY KEY,\\\n",
    "    NAME VARCHAR(255)\\\n",
    ");\n",
    "\n",
    "%sql CREATE TABLE Objects (\\\n",
    "    ID INT PRIMARY KEY,\\\n",
    "    TYPE_ID INT,\\\n",
    "    OWNER_ID INT,\\\n",
    "    FOREIGN KEY (TYPE_ID) REFERENCES Object_Types(ID),\\\n",
    "    FOREIGN KEY (OWNER_ID) REFERENCES Players(ID)\\\n",
    ");\n",
    "\n",
    "%sql CREATE TABLE Market_Place (\\\n",
    "    OBJECT_ID INT,\\\n",
    "    PRICE DECIMAL(10, 2),\\\n",
    "    PRIMARY KEY (OBJECT_ID),\\\n",
    "    FOREIGN KEY (OBJECT_ID) REFERENCES Objects(ID)\\\n",
    ");"
   ]
  },
  {
   "cell_type": "code",
   "execution_count": 25,
   "metadata": {},
   "outputs": [
    {
     "name": "stdout",
     "output_type": "stream",
     "text": [
      "Database schema:\n",
      "\n",
      "Market_Place:\n",
      "  0: OBJECT_ID(INT) *1\n",
      "  1: PRICE(DECIMAL(10, 2))\n",
      "Object_Types:\n",
      "  0: ID(INT) *1\n",
      "  1: NAME(VARCHAR(255))\n",
      "Objects:\n",
      "  0: ID(INT) *1\n",
      "  1: TYPE_ID(INT)\n",
      "  2: OWNER_ID(INT)\n",
      "Players:\n",
      "  0: ID(INT) *1\n",
      "  1: NAME(VARCHAR(255))\n",
      "  2: BALANCE(DECIMAL(10, 2))\n"
     ]
    }
   ],
   "source": [
    "conn2 = sqlite3.connect('game.db')\n",
    "print(\"Database schema:\\n\")\n",
    "printSchema(conn2)"
   ]
  }
 ],
 "metadata": {
  "anaconda-cloud": {},
  "colab": {
   "name": "SD202 (créneau D) -TP3.ipynb",
   "provenance": []
  },
  "kernelspec": {
   "display_name": "Python 3 (ipykernel)",
   "language": "python",
   "name": "python3"
  },
  "language_info": {
   "codemirror_mode": {
    "name": "ipython",
    "version": 3
   },
   "file_extension": ".py",
   "mimetype": "text/x-python",
   "name": "python",
   "nbconvert_exporter": "python",
   "pygments_lexer": "ipython3",
   "version": "3.9.7"
  }
 },
 "nbformat": 4,
 "nbformat_minor": 1
}
