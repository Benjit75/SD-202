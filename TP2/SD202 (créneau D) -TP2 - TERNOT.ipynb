{
 "cells": [
  {
   "cell_type": "markdown",
   "metadata": {
    "id": "c0Zm2Jkfam3H"
   },
   "source": [
    "# SD202 TP2 - Normalization and SQL\n",
    "\n",
    "*Author: Benjamin Ternot*\n",
    "\n",
    "The objectives of this TP are the following:\n",
    "\n",
    "1. Apply normalization 1NF -> 2NF -> 3NF\n",
    "2. Perform SQL queries on the normalized database\n",
    "\n",
    "In this lab, we are going to use a database containing wine information related to 'production' and 'sales'. \n",
    "\n",
    "Production <---> Wine <---> Sales\n",
    "\n",
    "\n",
    "---\n",
    "\n",
    "### Working with db files in Jupyter\n",
    "- Python provides an interface for SQLite through the *sqlite3* module\n",
    "- The **`%%sql`** magic builds upon it (and other tools) to enable the usage of SQL commands within a Jupyter Notebook as in common SQL clients.\n",
    "- Before proceeding, make sure that **`wine.db`** is in the same path as this notebook.\n",
    "  - If **`wine.db`** is not in the same path, an empty **`wine.db`** file will be created, resulting in errors in later steps of the TP.\n",
    "- The SQLite module in Python commits transactions automatically, this means that any change in the DB is immediately written to the file, e.g. creating/deleting tables.\n",
    "  -  For this reason, it is recommended to have a backup of **`wine.db`** as it is provided in the course's website.\n",
    "\n",
    "---"
   ]
  },
  {
   "cell_type": "markdown",
   "metadata": {
    "id": "YnyNi0lVam3L"
   },
   "source": [
    "**`wine.db`** contains the following unnormalized tables:\n",
    "\n",
    "<center>**Master1**</center>\n",
    "\n",
    "|*Attribute*|         *Description*          |\n",
    "| -------   |--------------------------------|\n",
    "| NV        | Wine number                    |\n",
    "| CRU       | Vineyard or group of vineyards |\n",
    "| DEGRE     | Alcohol content                |\n",
    "| MILL      | Vintage year                   |\n",
    "| QTE       | Number of bottles harvested    |\n",
    "| NP        | Producer number                |\n",
    "| NOM       | Producer's last name           |\n",
    "| PRENOM    | Producer's first name          |\n",
    "| REGION    | Production region              |\n",
    "\n",
    "From wikipedia:\n",
    "\n",
    "__Cru__: Often used to indicate a specifically named and legally defined vineyard or ensemble of vineyards and the vines \"which grow on [such] a reputed terroir; by extension of good quality.\" The term is also used to refer to the wine produced from such vines.\n",
    "\n",
    "\n",
    "<center>**Master2**</center>\n",
    "\n",
    "|*Attribute*|                         *Description*                  |\n",
    "| -------   |--------------------------------------------------------|\n",
    "| NV        | Wine number                                            |\n",
    "| CRU       | Vineyard or group of vineyards                         |\n",
    "| DEGRE     | Alcohol content                                        |\n",
    "| MILL      | Vintage year                                           |\n",
    "| DATES     | Buying date                                            |\n",
    "| LIEU      | Place where the wine was sold                          |\n",
    "| QTE       | Number of bottles bought                               |\n",
    "| NB        | Client (buveur) number                                 |\n",
    "| NOM       | Client's last name                                     |\n",
    "| PRENOM    | Client's first name                                    |\n",
    "| TYPE      | Type of client by volume of purchases                  |\n",
    "| REGION    | Administrative Region (different to production region) |\n"
   ]
  },
  {
   "cell_type": "markdown",
   "metadata": {
    "id": "hIz_V3tYam3N"
   },
   "source": [
    "We need to prepare the SQL environment:"
   ]
  },
  {
   "cell_type": "code",
   "execution_count": 1,
   "metadata": {
    "id": "eSq92GSlam3N"
   },
   "outputs": [],
   "source": [
    "import sqlite3"
   ]
  },
  {
   "cell_type": "code",
   "execution_count": 2,
   "metadata": {
    "id": "QIdOYqNEam3O"
   },
   "outputs": [],
   "source": [
    "def printSchema(connection):\n",
    "    ### Source: http://stackoverflow.com/a/35092773/4765776\n",
    "    for (tableName,) in connection.execute(\n",
    "        \"\"\"\n",
    "        select NAME from SQLITE_MASTER where TYPE='table' order by NAME;\n",
    "        \"\"\"\n",
    "    ):\n",
    "        print(\"{}:\".format(tableName))\n",
    "        for (\n",
    "            columnID, columnName, columnType,\n",
    "            columnNotNull, columnDefault, columnPK,\n",
    "        ) in connection.execute(\"pragma table_info('{}');\".format(tableName)):\n",
    "            print(\"  {id}: {name}({type}){null}{default}{pk}\".format(\n",
    "                id=columnID,\n",
    "                name=columnName,\n",
    "                type=columnType,\n",
    "                null=\" not null\" if columnNotNull else \"\",\n",
    "                default=\" [{}]\".format(columnDefault) if columnDefault else \"\",\n",
    "                pk=\" *{}\".format(columnPK) if columnPK else \"\",\n",
    "            ))"
   ]
  },
  {
   "cell_type": "code",
   "execution_count": 3,
   "metadata": {
    "colab": {
     "base_uri": "https://localhost:8080/"
    },
    "executionInfo": {
     "elapsed": 3,
     "status": "ok",
     "timestamp": 1654257281796,
     "user": {
      "displayName": "Maroua Bahri",
      "userId": "12892645538061693421"
     },
     "user_tz": -120
    },
    "id": "aCJ6yknMam3Q",
    "outputId": "17ed44d8-19a2-4e97-dc6b-c0e8ade6151b"
   },
   "outputs": [
    {
     "name": "stdout",
     "output_type": "stream",
     "text": [
      "Database schema:\n",
      "CLIENTS:\n",
      "  0: NB(NUM)\n",
      "  1: NOM(TEXT)\n",
      "  2: PRENOM(TEXT)\n",
      "  3: TYPE(TEXT)\n",
      "LOC:\n",
      "  0: LIEU(TEXT)\n",
      "  1: REGION(TEXT)\n",
      "MASTER1:\n",
      "  0: NV(NUM)\n",
      "  1: CRU(TEXT)\n",
      "  2: DEGRE(NUM)\n",
      "  3: MILL(NUM)\n",
      "  4: QTE(NUM)\n",
      "  5: NP(NUM)\n",
      "  6: NOM(TEXT)\n",
      "  7: PRENOM(TEXT)\n",
      "  8: REGION(TEXT)\n",
      "MASTER2:\n",
      "  0: NV(NUM)\n",
      "  1: CRU(TEXT)\n",
      "  2: DEGRE(NUM)\n",
      "  3: MILL(NUM)\n",
      "  4: DATES(NUM)\n",
      "  5: LIEU(TEXT)\n",
      "  6: QTE(NUM)\n",
      "  7: NB(NUM)\n",
      "  8: NOM(TEXT)\n",
      "  9: PRENOM(TEXT)\n",
      "  10: TYPE(TEXT)\n",
      "  11: REGION(TEXT)\n",
      "PRODUCERS:\n",
      "  0: NP(NUM)\n",
      "  1: NOM(TEXT)\n",
      "  2: PRENOM(TEXT)\n",
      "  3: REGION(TEXT)\n",
      "PRODUCTIONS:\n",
      "  0: NV(NUM)\n",
      "  1: NP(NUM)\n",
      "  2: QTE(NUM)\n",
      "SALES:\n",
      "  0: NV(NUM)\n",
      "  1: NB(NUM)\n",
      "  2: QTE(NUM)\n",
      "  3: DATES(NUM)\n",
      "  4: LIEU(TEXT)\n",
      "WINES1:\n",
      "  0: NV(NUM)\n",
      "  1: CRU(TEXT)\n",
      "  2: DEGRE(NUM)\n",
      "  3: MILL(NUM)\n",
      "WINES2:\n",
      "  0: NV(NUM)\n",
      "  1: CRU(TEXT)\n",
      "  2: DEGRE(NUM)\n",
      "  3: MILL(NUM)\n"
     ]
    }
   ],
   "source": [
    "conn = sqlite3.connect('wine.db')\n",
    "c = conn.cursor()\n",
    "print(\"Database schema:\")\n",
    "printSchema(conn)           # An usefull way to viualize the content of the database"
   ]
  },
  {
   "cell_type": "markdown",
   "metadata": {
    "id": "laB9PHzram3R"
   },
   "source": [
    "We recommend inline __%sql__ as an alternative to sqlite3 package"
   ]
  },
  {
   "cell_type": "code",
   "execution_count": 4,
   "metadata": {
    "colab": {
     "base_uri": "https://localhost:8080/",
     "height": 35
    },
    "executionInfo": {
     "elapsed": 1310,
     "status": "ok",
     "timestamp": 1654257293688,
     "user": {
      "displayName": "Maroua Bahri",
      "userId": "12892645538061693421"
     },
     "user_tz": -120
    },
    "id": "09c_ycgQam3R",
    "outputId": "c5ed9094-050b-4338-d720-3bce8066eb96"
   },
   "outputs": [],
   "source": [
    "%load_ext sql\n",
    "%sql sqlite:///wine.db"
   ]
  },
  {
   "cell_type": "markdown",
   "metadata": {
    "id": "N5D1wCuMam3S"
   },
   "source": [
    "Now, we can see the content of the tables using SQL queries:"
   ]
  },
  {
   "cell_type": "code",
   "execution_count": 5,
   "metadata": {
    "id": "-i-6ZnSDam3S",
    "outputId": "56f1cd9f-4e1e-4335-c0ca-5c9f9aac2c7d"
   },
   "outputs": [
    {
     "name": "stdout",
     "output_type": "stream",
     "text": [
      "*  sqlite:///wine.db\n",
      "Done.\n"
     ]
    },
    {
     "data": {
      "text/html": [
       "<table>\n",
       "    <thead>\n",
       "        <tr>\n",
       "            <th>NV</th>\n",
       "            <th>CRU</th>\n",
       "            <th>MILL</th>\n",
       "            <th>DEGRE</th>\n",
       "        </tr>\n",
       "    </thead>\n",
       "    <tbody>\n",
       "        <tr>\n",
       "            <td>None</td>\n",
       "            <td>None</td>\n",
       "            <td>None</td>\n",
       "            <td>None</td>\n",
       "        </tr>\n",
       "        <tr>\n",
       "            <td>1</td>\n",
       "            <td>Mercurey</td>\n",
       "            <td>1980</td>\n",
       "            <td>11.5</td>\n",
       "        </tr>\n",
       "        <tr>\n",
       "            <td>2</td>\n",
       "            <td>Julienas</td>\n",
       "            <td>1974</td>\n",
       "            <td>11.3</td>\n",
       "        </tr>\n",
       "        <tr>\n",
       "            <td>3</td>\n",
       "            <td>Savigny les Beaunes</td>\n",
       "            <td>1978</td>\n",
       "            <td>12.1</td>\n",
       "        </tr>\n",
       "        <tr>\n",
       "            <td>4</td>\n",
       "            <td>Mercurey</td>\n",
       "            <td>1980</td>\n",
       "            <td>10.9</td>\n",
       "        </tr>\n",
       "        <tr>\n",
       "            <td>5</td>\n",
       "            <td>Pommard</td>\n",
       "            <td>1976</td>\n",
       "            <td>11.7</td>\n",
       "        </tr>\n",
       "        <tr>\n",
       "            <td>6</td>\n",
       "            <td>Mercurey</td>\n",
       "            <td>1981</td>\n",
       "            <td>11.2</td>\n",
       "        </tr>\n",
       "        <tr>\n",
       "            <td>7</td>\n",
       "            <td>Grands Echezeaux</td>\n",
       "            <td>1968</td>\n",
       "            <td>11.7</td>\n",
       "        </tr>\n",
       "        <tr>\n",
       "            <td>8</td>\n",
       "            <td>Cotes de Beaune Villages</td>\n",
       "            <td>1975</td>\n",
       "            <td>12.3</td>\n",
       "        </tr>\n",
       "        <tr>\n",
       "            <td>9</td>\n",
       "            <td>Chapelle Chambertin</td>\n",
       "            <td>1973</td>\n",
       "            <td>11.9</td>\n",
       "        </tr>\n",
       "    </tbody>\n",
       "</table>\n",
       "<span style=\"font-style:italic;text-align:center;\">103 rows, truncated to displaylimit of 10</span><br><span style=\"font-style:italic;text-align:center;\">If you want to see more, please visit <a href=\"https://jupysql.ploomber.io/en/latest/api/configuration.html#displaylimit\">displaylimit</a> configuration</span>"
      ],
      "text/plain": [
       "+------+--------------------------+------+-------+\n",
       "|  NV  |           CRU            | MILL | DEGRE |\n",
       "+------+--------------------------+------+-------+\n",
       "| None |           None           | None |  None |\n",
       "|  1   |         Mercurey         | 1980 |  11.5 |\n",
       "|  2   |         Julienas         | 1974 |  11.3 |\n",
       "|  3   |   Savigny les Beaunes    | 1978 |  12.1 |\n",
       "|  4   |         Mercurey         | 1980 |  10.9 |\n",
       "|  5   |         Pommard          | 1976 |  11.7 |\n",
       "|  6   |         Mercurey         | 1981 |  11.2 |\n",
       "|  7   |     Grands Echezeaux     | 1968 |  11.7 |\n",
       "|  8   | Cotes de Beaune Villages | 1975 |  12.3 |\n",
       "|  9   |   Chapelle Chambertin    | 1973 |  11.9 |\n",
       "+------+--------------------------+------+-------+"
      ]
     },
     "execution_count": 5,
     "metadata": {},
     "output_type": "execute_result"
    }
   ],
   "source": [
    "%sql SELECT DISTINCT NV, CRU, MILL, DEGRE FROM MASTER1;"
   ]
  },
  {
   "cell_type": "markdown",
   "metadata": {
    "id": "ffVgLd5fam3T"
   },
   "source": [
    "# PART I: Database normalization"
   ]
  },
  {
   "cell_type": "markdown",
   "metadata": {
    "id": "iVWDosiNam3T"
   },
   "source": [
    "The first task on this TP is the normalization of the wine data. In its current state both tables Master1 and Master2 are in the First Normal Form (1NF) and suffer from data redundancy. "
   ]
  },
  {
   "cell_type": "markdown",
   "metadata": {
    "id": "4rOVzrdham3T"
   },
   "source": [
    "__1.1__ Given the set of the following FDs:\n",
    "\n",
    "NV -> CRU, DEGRE, MILL\n",
    "\n",
    "NP -> NOM, PRENOM, REGION\n",
    "\n",
    "NV, NP -> QTE\n",
    "\n",
    "Convert table Master1 to the Second Normal Form (2NF) or Third Normal Form (3NF) as applicable.\n",
    "\n",
    "* Explain your answer\n",
    "* Describe the schema of new tables and how they relate"
   ]
  },
  {
   "cell_type": "markdown",
   "metadata": {
    "id": "y_nH4ok3am3U"
   },
   "source": [
    "**Answer:**  \n",
    "\n",
    "<blockquote>\n",
    "From the FDs, we can identify the following primary keys:  \n",
    "    \n",
    "- NV (from FD 1)\n",
    "- NP (from FD 2)\n",
    "\n",
    "Based on the FDs, we can split the `Master1` table into three tables to achieve the third normalization form (3NF):\n",
    "\n",
    "- Table `Wines` (Primary key: NV):\n",
    "    - NV (primary key)\n",
    "    - CRU\n",
    "    - DEGRE\n",
    "    - MILL  \n",
    "    This table contains the information related to NV, as indicated by FD 1.  \n",
    "\n",
    "\n",
    "- Table `Producers` (Primary key: NP):\n",
    "    - NP (primary key)\n",
    "    - NOM\n",
    "    - PRENOM\n",
    "    - REGION  \n",
    "    This table contains the information related to NP, as indicated by FD 2.  \n",
    "\n",
    "\n",
    "- Table `Productions` (Primary key: NV, NP):\n",
    "     - NV (foreign key)\n",
    "     - NP (foreign key)\n",
    "     - QTE  \n",
    "    This table represents the relationship between NV and NP, as indicated by FD 3.  \n",
    "\n",
    "The relationships between the tables are as follows:\n",
    "\n",
    "- `Wines` and `Producers` have a one-to-many relationship based on the NV foreign key in the `Wines` table and the NP foreign key in the `Producers` table. This relationship represents the association between a wine (identified by NV) and its producer (identified by NP).\n",
    "\n",
    "- `Productions` table represents the relationship between NV and NP, indicating the productions for a specific wine (identified by NV) by a specific producer (identified by NP). The `NV` and `NP` columns in the `Productions` table are foreign keys referencing the primary keys in the `Wines` and `Producers` tables, respectively.\n",
    "\n",
    "\n",
    "In the new schema, the `Wines` and `Producers` are in the Third Normal Form (3NF) since there are no partial dependencies or transitive dependencies. The `Productions` is also in 3NF since it only contains the necessary attributes for the relationship.\n",
    "</blockquote>"
   ]
  },
  {
   "cell_type": "markdown",
   "metadata": {
    "id": "dWjcbxiUam3U"
   },
   "source": [
    "__1.2__ Given the set of the following FDs:\n",
    "\n",
    "NV -> CRU, DEGRE, MILL\n",
    "\n",
    "NB -> NOM, PRENOM, TYPE\n",
    "\n",
    "NV, NB -> DATES, LIEU, QTE\n",
    "\n",
    "LIEU -> REGION \n",
    "\n",
    "Convert table Master2 to the Second Normal Form (2NF) or Third Normal Form (3NF) as applicable. \n",
    "* Explain your answer\n",
    "* Describe the schema of new tables and how they relate"
   ]
  },
  {
   "cell_type": "markdown",
   "metadata": {
    "id": "EUt_9KSjam3U"
   },
   "source": [
    "**Answer:**  \n",
    "<blockquote>\n",
    "From the FDs, we can identify the following primary keys:  \n",
    "    \n",
    "- NV (from FD 1)\n",
    "- NP (from FD 2)\n",
    "\n",
    "Based on the FDs, we can split the `Master2` table into 4 tables to achieve the third normalization form (3NF):\n",
    "\n",
    "- Table `Wines` (Primary key: NV):\n",
    "    - NV (primary key)\n",
    "    - CRU\n",
    "    - DEGRE\n",
    "    - MILL  \n",
    "    This table contains the information related to NV, as indicated by FD 1.  \n",
    "\n",
    "\n",
    "- Table `Clients` (Primary key: NB):\n",
    "    - NB (primary key)\n",
    "    - NOM\n",
    "    - PRENOM\n",
    "    - TYPE  \n",
    "    This table contains the information related to NP, as indicated by FD 2.  \n",
    "\n",
    "\n",
    "- Table `Sales` (Primary key: NV, NB):\n",
    "     - NV (foreign key)\n",
    "     - NB (foreign key)\n",
    "     - DATES\n",
    "     - LIEU (foreign key)\n",
    "     - QTE  \n",
    "    This table represents the relationship between NV and NB, as indicated by FD 3.\n",
    "\n",
    "\n",
    "- Table `Loc` (Primary key: LIEU):\n",
    "     - LIEU (primary key)\n",
    "     - REGION  \n",
    "    This table represents the relationship between LIEU and REGION, as indicated by FD 4. It contains information about the location and corresponding region.\n",
    "\n",
    "In this 3NF schema, the `Wines` and `Clients` tables are in the 3NF since they have single-valued attributes and primary keys. The `Sales` table is also in 3NF as it only contains the necessary attributes for the relationship between NV and NB. Similarly, the `Loc` table is in 3NF as it contains the necessary information related to LIEU and REGION.\n",
    "\n",
    "The relationships between the tables are as follows:\n",
    "- `Wines` and `Sales` have a one-to-many relationship based on the NV foreign key.\n",
    "- `Clients` and `Sales` have a one-to-many relationship based on the NB foreign key.\n",
    "- `Loc` and `Sales` have a one-to-one relationship based on the LIEU foreign key.\n",
    "\n",
    "</blockquote>"
   ]
  },
  {
   "cell_type": "markdown",
   "metadata": {
    "id": "YfRNN87Mam3V"
   },
   "source": [
    "Once you have defined the 2NF or 3NF (as applicable) we need to split the data into new tables. A table can be created from the result of a query. In the following example we will create a new table \"dummy\" to store the different values of alcohol content."
   ]
  },
  {
   "cell_type": "code",
   "execution_count": 6,
   "metadata": {
    "id": "f3Z6j2l4am3V",
    "outputId": "d33c86dd-f685-4cf8-fb0d-c5e43c4ea52a"
   },
   "outputs": [
    {
     "name": "stdout",
     "output_type": "stream",
     "text": [
      "*  sqlite:///wine.db\n",
      "Done.\n",
      "*  sqlite:///wine.db\n",
      "Done.\n",
      "\n",
      "Content of the database\n",
      "CLIENTS:\n",
      "  0: NB(NUM)\n",
      "  1: NOM(TEXT)\n",
      "  2: PRENOM(TEXT)\n",
      "  3: TYPE(TEXT)\n",
      "LOC:\n",
      "  0: LIEU(TEXT)\n",
      "  1: REGION(TEXT)\n",
      "MASTER1:\n",
      "  0: NV(NUM)\n",
      "  1: CRU(TEXT)\n",
      "  2: DEGRE(NUM)\n",
      "  3: MILL(NUM)\n",
      "  4: QTE(NUM)\n",
      "  5: NP(NUM)\n",
      "  6: NOM(TEXT)\n",
      "  7: PRENOM(TEXT)\n",
      "  8: REGION(TEXT)\n",
      "MASTER2:\n",
      "  0: NV(NUM)\n",
      "  1: CRU(TEXT)\n",
      "  2: DEGRE(NUM)\n",
      "  3: MILL(NUM)\n",
      "  4: DATES(NUM)\n",
      "  5: LIEU(TEXT)\n",
      "  6: QTE(NUM)\n",
      "  7: NB(NUM)\n",
      "  8: NOM(TEXT)\n",
      "  9: PRENOM(TEXT)\n",
      "  10: TYPE(TEXT)\n",
      "  11: REGION(TEXT)\n",
      "PRODUCERS:\n",
      "  0: NP(NUM)\n",
      "  1: NOM(TEXT)\n",
      "  2: PRENOM(TEXT)\n",
      "  3: REGION(TEXT)\n",
      "PRODUCTIONS:\n",
      "  0: NV(NUM)\n",
      "  1: NP(NUM)\n",
      "  2: QTE(NUM)\n",
      "SALES:\n",
      "  0: NV(NUM)\n",
      "  1: NB(NUM)\n",
      "  2: QTE(NUM)\n",
      "  3: DATES(NUM)\n",
      "  4: LIEU(TEXT)\n",
      "WINES1:\n",
      "  0: NV(NUM)\n",
      "  1: CRU(TEXT)\n",
      "  2: DEGRE(NUM)\n",
      "  3: MILL(NUM)\n",
      "WINES2:\n",
      "  0: NV(NUM)\n",
      "  1: CRU(TEXT)\n",
      "  2: DEGRE(NUM)\n",
      "  3: MILL(NUM)\n",
      "dummy:\n",
      "  0: DEGRE(NUM)\n",
      "\n",
      "Content of dummy\n",
      "*  sqlite:///wine.db\n",
      "Done.\n"
     ]
    },
    {
     "data": {
      "text/html": [
       "<table>\n",
       "    <thead>\n",
       "        <tr>\n",
       "            <th>DEGRE</th>\n",
       "        </tr>\n",
       "    </thead>\n",
       "    <tbody>\n",
       "        <tr>\n",
       "            <td>None</td>\n",
       "        </tr>\n",
       "        <tr>\n",
       "            <td>11.5</td>\n",
       "        </tr>\n",
       "        <tr>\n",
       "            <td>11.3</td>\n",
       "        </tr>\n",
       "        <tr>\n",
       "            <td>12.1</td>\n",
       "        </tr>\n",
       "        <tr>\n",
       "            <td>10.9</td>\n",
       "        </tr>\n",
       "        <tr>\n",
       "            <td>11.7</td>\n",
       "        </tr>\n",
       "        <tr>\n",
       "            <td>11.2</td>\n",
       "        </tr>\n",
       "        <tr>\n",
       "            <td>12.3</td>\n",
       "        </tr>\n",
       "        <tr>\n",
       "            <td>11.9</td>\n",
       "        </tr>\n",
       "        <tr>\n",
       "            <td>11.8</td>\n",
       "        </tr>\n",
       "    </tbody>\n",
       "</table>\n",
       "<span style=\"font-style:italic;text-align:center;\">22 rows, truncated to displaylimit of 10</span><br><span style=\"font-style:italic;text-align:center;\">If you want to see more, please visit <a href=\"https://jupysql.ploomber.io/en/latest/api/configuration.html#displaylimit\">displaylimit</a> configuration</span>"
      ],
      "text/plain": [
       "+-------+\n",
       "| DEGRE |\n",
       "+-------+\n",
       "|  None |\n",
       "|  11.5 |\n",
       "|  11.3 |\n",
       "|  12.1 |\n",
       "|  10.9 |\n",
       "|  11.7 |\n",
       "|  11.2 |\n",
       "|  12.3 |\n",
       "|  11.9 |\n",
       "|  11.8 |\n",
       "+-------+"
      ]
     },
     "execution_count": 6,
     "metadata": {},
     "output_type": "execute_result"
    }
   ],
   "source": [
    "%sql DROP TABLE IF EXISTS dummy;\n",
    "\n",
    "# Create dummy table\n",
    "%sql CREATE TABLE dummy AS \\\n",
    "SELECT DISTINCT DEGRE \\\n",
    "FROM MASTER1;\n",
    "\n",
    "print(\"\\nContent of the database\")\n",
    "printSchema(conn)\n",
    "\n",
    "print(\"\\nContent of dummy\")\n",
    "%sql SELECT * FROM dummy"
   ]
  },
  {
   "cell_type": "code",
   "execution_count": 7,
   "metadata": {
    "id": "aqyzaoCvam3V",
    "outputId": "b909d4de-37e8-4b34-f9a6-aeb7a1956958"
   },
   "outputs": [
    {
     "name": "stdout",
     "output_type": "stream",
     "text": [
      "*  sqlite:///wine.db\n",
      "Done.\n"
     ]
    },
    {
     "data": {
      "text/plain": []
     },
     "execution_count": 7,
     "metadata": {},
     "output_type": "execute_result"
    }
   ],
   "source": [
    "# Remove dummy table\n",
    "%sql DROP TABLE IF EXISTS dummy;"
   ]
  },
  {
   "cell_type": "markdown",
   "metadata": {
    "id": "P2Zi9THlam3W"
   },
   "source": [
    "__1.3__ Create the new tables from Master1:"
   ]
  },
  {
   "cell_type": "code",
   "execution_count": 8,
   "metadata": {
    "id": "AkVHZ2qXam3W"
   },
   "outputs": [
    {
     "name": "stdout",
     "output_type": "stream",
     "text": [
      "*  sqlite:///wine.db\n",
      "Done.\n",
      "*  sqlite:///wine.db\n",
      "Done.\n",
      "*  sqlite:///wine.db\n",
      "Done.\n",
      "*  sqlite:///wine.db\n",
      "Done.\n",
      "*  sqlite:///wine.db\n",
      "Done.\n",
      "*  sqlite:///wine.db\n",
      "Done.\n",
      "\n",
      "Content of the database\n",
      "CLIENTS:\n",
      "  0: NB(NUM)\n",
      "  1: NOM(TEXT)\n",
      "  2: PRENOM(TEXT)\n",
      "  3: TYPE(TEXT)\n",
      "LOC:\n",
      "  0: LIEU(TEXT)\n",
      "  1: REGION(TEXT)\n",
      "MASTER1:\n",
      "  0: NV(NUM)\n",
      "  1: CRU(TEXT)\n",
      "  2: DEGRE(NUM)\n",
      "  3: MILL(NUM)\n",
      "  4: QTE(NUM)\n",
      "  5: NP(NUM)\n",
      "  6: NOM(TEXT)\n",
      "  7: PRENOM(TEXT)\n",
      "  8: REGION(TEXT)\n",
      "MASTER2:\n",
      "  0: NV(NUM)\n",
      "  1: CRU(TEXT)\n",
      "  2: DEGRE(NUM)\n",
      "  3: MILL(NUM)\n",
      "  4: DATES(NUM)\n",
      "  5: LIEU(TEXT)\n",
      "  6: QTE(NUM)\n",
      "  7: NB(NUM)\n",
      "  8: NOM(TEXT)\n",
      "  9: PRENOM(TEXT)\n",
      "  10: TYPE(TEXT)\n",
      "  11: REGION(TEXT)\n",
      "PRODUCERS:\n",
      "  0: NP(NUM)\n",
      "  1: NOM(TEXT)\n",
      "  2: PRENOM(TEXT)\n",
      "  3: REGION(TEXT)\n",
      "PRODUCTIONS:\n",
      "  0: NV(NUM)\n",
      "  1: NP(NUM)\n",
      "  2: QTE(NUM)\n",
      "SALES:\n",
      "  0: NV(NUM)\n",
      "  1: NB(NUM)\n",
      "  2: QTE(NUM)\n",
      "  3: DATES(NUM)\n",
      "  4: LIEU(TEXT)\n",
      "WINES1:\n",
      "  0: NV(NUM)\n",
      "  1: CRU(TEXT)\n",
      "  2: DEGRE(NUM)\n",
      "  3: MILL(NUM)\n",
      "WINES2:\n",
      "  0: NV(NUM)\n",
      "  1: CRU(TEXT)\n",
      "  2: DEGRE(NUM)\n",
      "  3: MILL(NUM)\n"
     ]
    }
   ],
   "source": [
    "# Write corresponding code here\n",
    "%sql DROP TABLE IF EXISTS WINES1;\n",
    "%sql DROP TABLE IF EXISTS PRODUCERS;\n",
    "%sql DROP TABLE IF EXISTS PRODUCTIONS;\n",
    "\n",
    "\n",
    "# Create WINES1 table\n",
    "%sql CREATE TABLE WINES1 AS \\\n",
    "SELECT DISTINCT NV, CRU, DEGRE, MILL \\\n",
    "FROM MASTER1;\n",
    "\n",
    "# Create PRODUCERS table\n",
    "%sql CREATE TABLE PRODUCERS AS \\\n",
    "SELECT DISTINCT NP, NOM, PRENOM, REGION \\\n",
    "FROM MASTER1;\n",
    "\n",
    "# Create PRODUCTIONS table\n",
    "%sql CREATE TABLE PRODUCTIONS AS \\\n",
    "SELECT DISTINCT NV, NP, QTE \\\n",
    "FROM MASTER1;\n",
    "\n",
    "\n",
    "print(\"\\nContent of the database\")\n",
    "printSchema(conn)"
   ]
  },
  {
   "cell_type": "markdown",
   "metadata": {
    "id": "xQJvtfSvam3W"
   },
   "source": [
    "__1.4__ Create the new tables from Master2:"
   ]
  },
  {
   "cell_type": "code",
   "execution_count": 9,
   "metadata": {
    "id": "lw8a-o53am3W"
   },
   "outputs": [
    {
     "name": "stdout",
     "output_type": "stream",
     "text": [
      "*  sqlite:///wine.db\n",
      "Done.\n",
      "*  sqlite:///wine.db\n",
      "Done.\n",
      "*  sqlite:///wine.db\n",
      "Done.\n",
      "*  sqlite:///wine.db\n",
      "Done.\n",
      "*  sqlite:///wine.db\n",
      "Done.\n",
      "*  sqlite:///wine.db\n",
      "Done.\n",
      "*  sqlite:///wine.db\n",
      "Done.\n",
      "*  sqlite:///wine.db\n",
      "Done.\n",
      "\n",
      "Content of the database\n",
      "CLIENTS:\n",
      "  0: NB(NUM)\n",
      "  1: NOM(TEXT)\n",
      "  2: PRENOM(TEXT)\n",
      "  3: TYPE(TEXT)\n",
      "LOC:\n",
      "  0: LIEU(TEXT)\n",
      "  1: REGION(TEXT)\n",
      "MASTER1:\n",
      "  0: NV(NUM)\n",
      "  1: CRU(TEXT)\n",
      "  2: DEGRE(NUM)\n",
      "  3: MILL(NUM)\n",
      "  4: QTE(NUM)\n",
      "  5: NP(NUM)\n",
      "  6: NOM(TEXT)\n",
      "  7: PRENOM(TEXT)\n",
      "  8: REGION(TEXT)\n",
      "MASTER2:\n",
      "  0: NV(NUM)\n",
      "  1: CRU(TEXT)\n",
      "  2: DEGRE(NUM)\n",
      "  3: MILL(NUM)\n",
      "  4: DATES(NUM)\n",
      "  5: LIEU(TEXT)\n",
      "  6: QTE(NUM)\n",
      "  7: NB(NUM)\n",
      "  8: NOM(TEXT)\n",
      "  9: PRENOM(TEXT)\n",
      "  10: TYPE(TEXT)\n",
      "  11: REGION(TEXT)\n",
      "PRODUCERS:\n",
      "  0: NP(NUM)\n",
      "  1: NOM(TEXT)\n",
      "  2: PRENOM(TEXT)\n",
      "  3: REGION(TEXT)\n",
      "PRODUCTIONS:\n",
      "  0: NV(NUM)\n",
      "  1: NP(NUM)\n",
      "  2: QTE(NUM)\n",
      "SALES:\n",
      "  0: NV(NUM)\n",
      "  1: NB(NUM)\n",
      "  2: QTE(NUM)\n",
      "  3: DATES(NUM)\n",
      "  4: LIEU(TEXT)\n",
      "WINES1:\n",
      "  0: NV(NUM)\n",
      "  1: CRU(TEXT)\n",
      "  2: DEGRE(NUM)\n",
      "  3: MILL(NUM)\n",
      "WINES2:\n",
      "  0: NV(NUM)\n",
      "  1: CRU(TEXT)\n",
      "  2: DEGRE(NUM)\n",
      "  3: MILL(NUM)\n"
     ]
    }
   ],
   "source": [
    "# Write corresponding code here\n",
    "%sql DROP TABLE IF EXISTS WINES2;\n",
    "%sql DROP TABLE IF EXISTS CLIENTS;\n",
    "%sql DROP TABLE IF EXISTS SALES;\n",
    "%sql DROP TABLE IF EXISTS LOC;\n",
    "\n",
    "\n",
    "# Create WINES2 table\n",
    "%sql CREATE TABLE WINES2 AS \\\n",
    "SELECT DISTINCT NV, CRU, DEGRE, MILL \\\n",
    "FROM MASTER2;\n",
    "\n",
    "# Create CLIENTS table\n",
    "%sql CREATE TABLE CLIENTS AS \\\n",
    "SELECT DISTINCT NB, NOM, PRENOM, TYPE \\\n",
    "FROM MASTER2;\n",
    "\n",
    "# Create SALES table\n",
    "%sql CREATE TABLE SALES AS \\\n",
    "SELECT DISTINCT NV, NB, QTE, DATES, LIEU \\\n",
    "FROM MASTER2;\n",
    "\n",
    "# Create LOC table\n",
    "%sql CREATE TABLE LOC AS \\\n",
    "SELECT DISTINCT LIEU, REGION \\\n",
    "FROM MASTER2;\n",
    "\n",
    "\n",
    "print(\"\\nContent of the database\")\n",
    "printSchema(conn)"
   ]
  },
  {
   "cell_type": "markdown",
   "metadata": {
    "id": "GE1UtF27am3X"
   },
   "source": [
    "# PART II: SQL QUERIES\n",
    "\n",
    "In the second part of this TP you will create SQL queries to retrieve information from the database."
   ]
  },
  {
   "cell_type": "markdown",
   "metadata": {
    "id": "TVpoXf4yam3X"
   },
   "source": [
    "__2.1__ What are the different types of clients (buveurs) by volume of purchases?"
   ]
  },
  {
   "cell_type": "code",
   "execution_count": 10,
   "metadata": {
    "id": "_vsrl_Fzam3X",
    "outputId": "76933b55-e2be-4bfb-f1e6-2c14fa11ddad"
   },
   "outputs": [
    {
     "name": "stdout",
     "output_type": "stream",
     "text": [
      "*  sqlite:///wine.db\n",
      "Done.\n"
     ]
    },
    {
     "data": {
      "text/html": [
       "<table>\n",
       "    <thead>\n",
       "        <tr>\n",
       "            <th>Type_of_buveurs</th>\n",
       "        </tr>\n",
       "    </thead>\n",
       "    <tbody>\n",
       "        <tr>\n",
       "            <td>petit</td>\n",
       "        </tr>\n",
       "        <tr>\n",
       "            <td>moyen</td>\n",
       "        </tr>\n",
       "        <tr>\n",
       "            <td>gros</td>\n",
       "        </tr>\n",
       "        <tr>\n",
       "            <td>None</td>\n",
       "        </tr>\n",
       "    </tbody>\n",
       "</table>"
      ],
      "text/plain": [
       "+-----------------+\n",
       "| Type_of_buveurs |\n",
       "+-----------------+\n",
       "|      petit      |\n",
       "|      moyen      |\n",
       "|       gros      |\n",
       "|       None      |\n",
       "+-----------------+"
      ]
     },
     "execution_count": 10,
     "metadata": {},
     "output_type": "execute_result"
    }
   ],
   "source": [
    "%%sql\n",
    "SELECT DISTINCT TYPE AS Type_of_buveurs\n",
    "FROM CLIENTS;"
   ]
  },
  {
   "cell_type": "markdown",
   "metadata": {
    "id": "Ts_J9VM6am3X"
   },
   "source": [
    "__2.2__ What regions produce Pommard or Brouilly?"
   ]
  },
  {
   "cell_type": "code",
   "execution_count": 11,
   "metadata": {
    "id": "J4taifxyam3X",
    "outputId": "64b76824-43e8-468e-80da-8f3107c67559"
   },
   "outputs": [
    {
     "name": "stdout",
     "output_type": "stream",
     "text": [
      "*  sqlite:///wine.db\n",
      "Done.\n"
     ]
    },
    {
     "data": {
      "text/html": [
       "<table>\n",
       "    <thead>\n",
       "        <tr>\n",
       "            <th>CRU</th>\n",
       "            <th>REGION</th>\n",
       "        </tr>\n",
       "    </thead>\n",
       "    <tbody>\n",
       "        <tr>\n",
       "            <td>Brouilly</td>\n",
       "            <td>Bourgogne</td>\n",
       "        </tr>\n",
       "        <tr>\n",
       "            <td>Pommard</td>\n",
       "            <td>Bourgogne</td>\n",
       "        </tr>\n",
       "        <tr>\n",
       "            <td>Pommard</td>\n",
       "            <td>Rhone</td>\n",
       "        </tr>\n",
       "    </tbody>\n",
       "</table>"
      ],
      "text/plain": [
       "+----------+-----------+\n",
       "|   CRU    |   REGION  |\n",
       "+----------+-----------+\n",
       "| Brouilly | Bourgogne |\n",
       "| Pommard  | Bourgogne |\n",
       "| Pommard  |   Rhone   |\n",
       "+----------+-----------+"
      ]
     },
     "execution_count": 11,
     "metadata": {},
     "output_type": "execute_result"
    }
   ],
   "source": [
    "%%sql\n",
    "SELECT DISTINCT CRU, REGION\n",
    "FROM WINES1 AS w\n",
    "    JOIN PRODUCTIONS AS p1 ON w.NV = p1.NV AND (w.CRU = \"Pommard\" OR w.CRU = \"Brouilly\")\n",
    "    JOIN PRODUCERS AS p2 ON (p1.NP = p2.NP)\n",
    "ORDER BY REGION ASC, CRU ASC;"
   ]
  },
  {
   "cell_type": "markdown",
   "metadata": {
    "id": "rW1NDAWRam3X"
   },
   "source": [
    "__2.3__ What regions produce Pommard and Brouilly?"
   ]
  },
  {
   "cell_type": "code",
   "execution_count": 12,
   "metadata": {
    "id": "CF0jI4EQam3Y",
    "outputId": "a1c848d8-45d7-4c68-d8b9-a7afad9e8d54"
   },
   "outputs": [
    {
     "name": "stdout",
     "output_type": "stream",
     "text": [
      "*  sqlite:///wine.db\n",
      "Done.\n"
     ]
    },
    {
     "data": {
      "text/html": [
       "<table>\n",
       "    <thead>\n",
       "        <tr>\n",
       "            <th>REGION</th>\n",
       "        </tr>\n",
       "    </thead>\n",
       "    <tbody>\n",
       "        <tr>\n",
       "            <td>Bourgogne</td>\n",
       "        </tr>\n",
       "    </tbody>\n",
       "</table>"
      ],
      "text/plain": [
       "+-----------+\n",
       "|   REGION  |\n",
       "+-----------+\n",
       "| Bourgogne |\n",
       "+-----------+"
      ]
     },
     "execution_count": 12,
     "metadata": {},
     "output_type": "execute_result"
    }
   ],
   "source": [
    "%%sql\n",
    "SELECT REGION\n",
    "FROM\n",
    "    (SELECT DISTINCT CRU, REGION\n",
    "    FROM WINES1 AS w\n",
    "        JOIN PRODUCTIONS AS p1 ON w.NV = p1.NV AND (w.CRU = \"Pommard\" OR w.CRU = \"Brouilly\")\n",
    "        JOIN PRODUCERS AS p2 ON (p1.NP = p2.NP))\n",
    "GROUP BY REGION\n",
    "HAVING COUNT(CRU) = 2\n",
    "ORDER BY REGION ASC;"
   ]
  },
  {
   "cell_type": "markdown",
   "metadata": {
    "id": "f8_ialWram3Y"
   },
   "source": [
    "__2.4__ Get the number of wines bought by CRU and Millésime"
   ]
  },
  {
   "cell_type": "code",
   "execution_count": 13,
   "metadata": {
    "id": "eZDRTUY-am3Y",
    "outputId": "b0c20f10-d97f-4fc4-aeed-42f791af50e7"
   },
   "outputs": [
    {
     "name": "stdout",
     "output_type": "stream",
     "text": [
      "*  sqlite:///wine.db\n",
      "Done.\n"
     ]
    },
    {
     "data": {
      "text/html": [
       "<table>\n",
       "    <thead>\n",
       "        <tr>\n",
       "            <th>CRU</th>\n",
       "            <th>MILL</th>\n",
       "            <th>Number_of_wines_bought</th>\n",
       "        </tr>\n",
       "    </thead>\n",
       "    <tbody>\n",
       "        <tr>\n",
       "            <td>Arbois</td>\n",
       "            <td>1980</td>\n",
       "            <td>8</td>\n",
       "        </tr>\n",
       "        <tr>\n",
       "            <td>Auxey Duresses</td>\n",
       "            <td>1914</td>\n",
       "            <td>80</td>\n",
       "        </tr>\n",
       "        <tr>\n",
       "            <td>Beaujolais Primeur</td>\n",
       "            <td>1983</td>\n",
       "            <td>7</td>\n",
       "        </tr>\n",
       "        <tr>\n",
       "            <td>Beaujolais Villages</td>\n",
       "            <td>1975</td>\n",
       "            <td>10</td>\n",
       "        </tr>\n",
       "        <tr>\n",
       "            <td>Beaujolais Villages</td>\n",
       "            <td>1976</td>\n",
       "            <td>120</td>\n",
       "        </tr>\n",
       "        <tr>\n",
       "            <td>Beaujolais Villages</td>\n",
       "            <td>1978</td>\n",
       "            <td>130</td>\n",
       "        </tr>\n",
       "        <tr>\n",
       "            <td>Beaujolais Villages</td>\n",
       "            <td>1979</td>\n",
       "            <td>520</td>\n",
       "        </tr>\n",
       "        <tr>\n",
       "            <td>Chapelle Chambertin</td>\n",
       "            <td>1973</td>\n",
       "            <td>30</td>\n",
       "        </tr>\n",
       "        <tr>\n",
       "            <td>Chateau Corton Grancey</td>\n",
       "            <td>1980</td>\n",
       "            <td>4</td>\n",
       "        </tr>\n",
       "        <tr>\n",
       "            <td>Chenas</td>\n",
       "            <td>1984</td>\n",
       "            <td>1</td>\n",
       "        </tr>\n",
       "    </tbody>\n",
       "</table>\n",
       "<span style=\"font-style:italic;text-align:center;\">43 rows, truncated to displaylimit of 10</span><br><span style=\"font-style:italic;text-align:center;\">If you want to see more, please visit <a href=\"https://jupysql.ploomber.io/en/latest/api/configuration.html#displaylimit\">displaylimit</a> configuration</span>"
      ],
      "text/plain": [
       "+------------------------+------+------------------------+\n",
       "|          CRU           | MILL | Number_of_wines_bought |\n",
       "+------------------------+------+------------------------+\n",
       "|         Arbois         | 1980 |           8            |\n",
       "|     Auxey Duresses     | 1914 |           80           |\n",
       "|   Beaujolais Primeur   | 1983 |           7            |\n",
       "|  Beaujolais Villages   | 1975 |           10           |\n",
       "|  Beaujolais Villages   | 1976 |          120           |\n",
       "|  Beaujolais Villages   | 1978 |          130           |\n",
       "|  Beaujolais Villages   | 1979 |          520           |\n",
       "|  Chapelle Chambertin   | 1973 |           30           |\n",
       "| Chateau Corton Grancey | 1980 |           4            |\n",
       "|         Chenas         | 1984 |           1            |\n",
       "+------------------------+------+------------------------+"
      ]
     },
     "execution_count": 13,
     "metadata": {},
     "output_type": "execute_result"
    }
   ],
   "source": [
    "%%sql\n",
    "SELECT CRU, MILL, SUM(QTE) AS Number_of_wines_bought\n",
    "FROM WINES2 AS w\n",
    "    JOIN SALES AS s ON w.NV = s.NV\n",
    "GROUP BY CRU, MILL\n",
    "HAVING SUM(QTE) IS NOT NULL\n",
    "ORDER BY CRU ASC, MILL ASC;"
   ]
  },
  {
   "cell_type": "markdown",
   "metadata": {
    "id": "aFGprBS4am3Y"
   },
   "source": [
    "__2.5__ Retrieve the wine number (NV) of wines produced by more than three producers"
   ]
  },
  {
   "cell_type": "code",
   "execution_count": 14,
   "metadata": {
    "id": "VZu3uzKlam3Y",
    "outputId": "314b4f54-753e-4559-9e9e-ad4301d73991"
   },
   "outputs": [
    {
     "name": "stdout",
     "output_type": "stream",
     "text": [
      "*  sqlite:///wine.db\n",
      "Done.\n"
     ]
    },
    {
     "data": {
      "text/html": [
       "<table>\n",
       "    <thead>\n",
       "        <tr>\n",
       "            <th>NV</th>\n",
       "            <th>Number_of_producers</th>\n",
       "        </tr>\n",
       "    </thead>\n",
       "    <tbody>\n",
       "        <tr>\n",
       "            <td>45</td>\n",
       "            <td>5</td>\n",
       "        </tr>\n",
       "        <tr>\n",
       "            <td>78</td>\n",
       "            <td>5</td>\n",
       "        </tr>\n",
       "        <tr>\n",
       "            <td>89</td>\n",
       "            <td>4</td>\n",
       "        </tr>\n",
       "        <tr>\n",
       "            <td>98</td>\n",
       "            <td>5</td>\n",
       "        </tr>\n",
       "    </tbody>\n",
       "</table>"
      ],
      "text/plain": [
       "+----+---------------------+\n",
       "| NV | Number_of_producers |\n",
       "+----+---------------------+\n",
       "| 45 |          5          |\n",
       "| 78 |          5          |\n",
       "| 89 |          4          |\n",
       "| 98 |          5          |\n",
       "+----+---------------------+"
      ]
     },
     "execution_count": 14,
     "metadata": {},
     "output_type": "execute_result"
    }
   ],
   "source": [
    "%%sql\n",
    "SELECT NV, COUNT(DISTINCT(NP)) AS Number_of_producers\n",
    "FROM PRODUCTIONS\n",
    "GROUP BY NV\n",
    "HAVING COUNT(DISTINCT(NP)) > 3 AND NV IS NOT NULL\n",
    "ORDER BY NV ASC;"
   ]
  },
  {
   "cell_type": "markdown",
   "metadata": {
    "id": "mXpNIWnfam3Z"
   },
   "source": [
    "__2.6__ Which producers have not produced any wine?"
   ]
  },
  {
   "cell_type": "code",
   "execution_count": 15,
   "metadata": {
    "id": "7Ohf4ZyXam3Z",
    "outputId": "17358b59-b4ed-40aa-db89-6c150fa1a364"
   },
   "outputs": [
    {
     "name": "stdout",
     "output_type": "stream",
     "text": [
      "*  sqlite:///wine.db\n",
      "Done.\n"
     ]
    },
    {
     "data": {
      "text/html": [
       "<table>\n",
       "    <thead>\n",
       "        <tr>\n",
       "            <th>NP</th>\n",
       "            <th>NOM</th>\n",
       "            <th>PRENOM</th>\n",
       "        </tr>\n",
       "    </thead>\n",
       "    <tbody>\n",
       "        <tr>\n",
       "            <td>3</td>\n",
       "            <td>Six</td>\n",
       "            <td>Paul</td>\n",
       "        </tr>\n",
       "        <tr>\n",
       "            <td>6</td>\n",
       "            <td>Marmagne</td>\n",
       "            <td>Bernard</td>\n",
       "        </tr>\n",
       "        <tr>\n",
       "            <td>8</td>\n",
       "            <td>Lioger d'Harduy</td>\n",
       "            <td>Gabriel</td>\n",
       "        </tr>\n",
       "        <tr>\n",
       "            <td>16</td>\n",
       "            <td>Barbin</td>\n",
       "            <td>Bernard</td>\n",
       "        </tr>\n",
       "        <tr>\n",
       "            <td>17</td>\n",
       "            <td>Faiveley</td>\n",
       "            <td>Guy</td>\n",
       "        </tr>\n",
       "        <tr>\n",
       "            <td>18</td>\n",
       "            <td>Tramier</td>\n",
       "            <td>Jean</td>\n",
       "        </tr>\n",
       "        <tr>\n",
       "            <td>19</td>\n",
       "            <td>Dupaquier</td>\n",
       "            <td>Roger</td>\n",
       "        </tr>\n",
       "        <tr>\n",
       "            <td>20</td>\n",
       "            <td>Lamy</td>\n",
       "            <td>Jean</td>\n",
       "        </tr>\n",
       "        <tr>\n",
       "            <td>21</td>\n",
       "            <td>Cornu</td>\n",
       "            <td>Edmond</td>\n",
       "        </tr>\n",
       "        <tr>\n",
       "            <td>26</td>\n",
       "            <td>Violot</td>\n",
       "            <td>Gilbert</td>\n",
       "        </tr>\n",
       "    </tbody>\n",
       "</table>\n",
       "<span style=\"font-style:italic;text-align:center;\">64 rows, truncated to displaylimit of 10</span><br><span style=\"font-style:italic;text-align:center;\">If you want to see more, please visit <a href=\"https://jupysql.ploomber.io/en/latest/api/configuration.html#displaylimit\">displaylimit</a> configuration</span>"
      ],
      "text/plain": [
       "+----+-----------------+---------+\n",
       "| NP |       NOM       |  PRENOM |\n",
       "+----+-----------------+---------+\n",
       "| 3  |       Six       |   Paul  |\n",
       "| 6  |     Marmagne    | Bernard |\n",
       "| 8  | Lioger d'Harduy | Gabriel |\n",
       "| 16 |      Barbin     | Bernard |\n",
       "| 17 |     Faiveley    |   Guy   |\n",
       "| 18 |     Tramier     |   Jean  |\n",
       "| 19 |    Dupaquier    |  Roger  |\n",
       "| 20 |       Lamy      |   Jean  |\n",
       "| 21 |      Cornu      |  Edmond |\n",
       "| 26 |      Violot     | Gilbert |\n",
       "+----+-----------------+---------+"
      ]
     },
     "execution_count": 15,
     "metadata": {},
     "output_type": "execute_result"
    }
   ],
   "source": [
    "%%sql\n",
    "SELECT p.NP, NOM, PRENOM\n",
    "FROM PRODUCERS AS p\n",
    "    JOIN PRODUCTIONS AS pr ON p.NP = pr.NP\n",
    "GROUP BY p.NP, NOM, PRENOM\n",
    "HAVING SUM(QTE) IS NULL\n",
    "ORDER BY p.NP ASC;"
   ]
  },
  {
   "cell_type": "markdown",
   "metadata": {
    "id": "EHetsWd5am3Z"
   },
   "source": [
    "__2.7__ What clients (buveurs) have bought at least one wine from 1980?"
   ]
  },
  {
   "cell_type": "code",
   "execution_count": 16,
   "metadata": {
    "id": "BrZYArc2am3Z",
    "outputId": "51c93daf-13a0-4202-f720-0685e38701e1"
   },
   "outputs": [
    {
     "name": "stdout",
     "output_type": "stream",
     "text": [
      "*  sqlite:///wine.db\n",
      "Done.\n"
     ]
    },
    {
     "data": {
      "text/html": [
       "<table>\n",
       "    <thead>\n",
       "        <tr>\n",
       "            <th>NB</th>\n",
       "            <th>NOM</th>\n",
       "            <th>PRENOM</th>\n",
       "        </tr>\n",
       "    </thead>\n",
       "    <tbody>\n",
       "        <tr>\n",
       "            <td>2</td>\n",
       "            <td>Artaud</td>\n",
       "            <td>Antonin</td>\n",
       "        </tr>\n",
       "        <tr>\n",
       "            <td>8</td>\n",
       "            <td>Aragon</td>\n",
       "            <td>Louis</td>\n",
       "        </tr>\n",
       "        <tr>\n",
       "            <td>44</td>\n",
       "            <td>Gide</td>\n",
       "            <td>Andre</td>\n",
       "        </tr>\n",
       "        <tr>\n",
       "            <td>45</td>\n",
       "            <td>Giono</td>\n",
       "            <td>Jean</td>\n",
       "        </tr>\n",
       "        <tr>\n",
       "            <td>50</td>\n",
       "            <td>Lautreamont</td>\n",
       "            <td>None</td>\n",
       "        </tr>\n",
       "        <tr>\n",
       "            <td>61</td>\n",
       "            <td>Mallarme</td>\n",
       "            <td>Stephane</td>\n",
       "        </tr>\n",
       "    </tbody>\n",
       "</table>"
      ],
      "text/plain": [
       "+----+-------------+----------+\n",
       "| NB |     NOM     |  PRENOM  |\n",
       "+----+-------------+----------+\n",
       "| 2  |    Artaud   | Antonin  |\n",
       "| 8  |    Aragon   |  Louis   |\n",
       "| 44 |     Gide    |  Andre   |\n",
       "| 45 |    Giono    |   Jean   |\n",
       "| 50 | Lautreamont |   None   |\n",
       "| 61 |   Mallarme  | Stephane |\n",
       "+----+-------------+----------+"
      ]
     },
     "execution_count": 16,
     "metadata": {},
     "output_type": "execute_result"
    }
   ],
   "source": [
    "%%sql\n",
    "SELECT DISTINCT c.NB, NOM, PRENOM\n",
    "FROM WINES2 AS w\n",
    "    JOIN SALES AS s ON w.NV = s.NV AND w.MILL = 1980\n",
    "    JOIN CLIENTS AS c ON s.NB = c.NB\n",
    "ORDER BY c.NB ASC;"
   ]
  },
  {
   "cell_type": "markdown",
   "metadata": {
    "id": "Zbroyx4Ram3Z"
   },
   "source": [
    "__2.8__ What clients (buveurs) have NOT bought any wine from 1980?"
   ]
  },
  {
   "cell_type": "code",
   "execution_count": 17,
   "metadata": {
    "id": "6vPYDxbbam3Z",
    "outputId": "5ad8e6a6-a2b4-42a1-b40c-0c60c7afa482"
   },
   "outputs": [
    {
     "name": "stdout",
     "output_type": "stream",
     "text": [
      "*  sqlite:///wine.db\n",
      "Done.\n"
     ]
    },
    {
     "data": {
      "text/html": [
       "<table>\n",
       "    <thead>\n",
       "        <tr>\n",
       "            <th>NB</th>\n",
       "            <th>NOM</th>\n",
       "            <th>PRENOM</th>\n",
       "        </tr>\n",
       "    </thead>\n",
       "    <tbody>\n",
       "        <tr>\n",
       "            <td>1</td>\n",
       "            <td>Aristote</td>\n",
       "            <td>None</td>\n",
       "        </tr>\n",
       "        <tr>\n",
       "            <td>3</td>\n",
       "            <td>Aron</td>\n",
       "            <td>Raymond</td>\n",
       "        </tr>\n",
       "        <tr>\n",
       "            <td>4</td>\n",
       "            <td>Apollinaire</td>\n",
       "            <td>Guillaume</td>\n",
       "        </tr>\n",
       "        <tr>\n",
       "            <td>5</td>\n",
       "            <td>Audiberti</td>\n",
       "            <td>Jacques</td>\n",
       "        </tr>\n",
       "        <tr>\n",
       "            <td>6</td>\n",
       "            <td>Arrabal</td>\n",
       "            <td>Fernando</td>\n",
       "        </tr>\n",
       "        <tr>\n",
       "            <td>7</td>\n",
       "            <td>Anouilh</td>\n",
       "            <td>Jean</td>\n",
       "        </tr>\n",
       "        <tr>\n",
       "            <td>9</td>\n",
       "            <td>Ajar</td>\n",
       "            <td>Emile</td>\n",
       "        </tr>\n",
       "        <tr>\n",
       "            <td>10</td>\n",
       "            <td>Andersen</td>\n",
       "            <td>Yann</td>\n",
       "        </tr>\n",
       "        <tr>\n",
       "            <td>11</td>\n",
       "            <td>Breton</td>\n",
       "            <td>Andre</td>\n",
       "        </tr>\n",
       "        <tr>\n",
       "            <td>12</td>\n",
       "            <td>Bataille</td>\n",
       "            <td>Georges</td>\n",
       "        </tr>\n",
       "    </tbody>\n",
       "</table>\n",
       "<span style=\"font-style:italic;text-align:center;\">94 rows, truncated to displaylimit of 10</span><br><span style=\"font-style:italic;text-align:center;\">If you want to see more, please visit <a href=\"https://jupysql.ploomber.io/en/latest/api/configuration.html#displaylimit\">displaylimit</a> configuration</span>"
      ],
      "text/plain": [
       "+----+-------------+-----------+\n",
       "| NB |     NOM     |   PRENOM  |\n",
       "+----+-------------+-----------+\n",
       "| 1  |   Aristote  |    None   |\n",
       "| 3  |     Aron    |  Raymond  |\n",
       "| 4  | Apollinaire | Guillaume |\n",
       "| 5  |  Audiberti  |  Jacques  |\n",
       "| 6  |   Arrabal   |  Fernando |\n",
       "| 7  |   Anouilh   |    Jean   |\n",
       "| 9  |     Ajar    |   Emile   |\n",
       "| 10 |   Andersen  |    Yann   |\n",
       "| 11 |    Breton   |   Andre   |\n",
       "| 12 |   Bataille  |  Georges  |\n",
       "+----+-------------+-----------+"
      ]
     },
     "execution_count": 17,
     "metadata": {},
     "output_type": "execute_result"
    }
   ],
   "source": [
    "%%sql\n",
    "SELECT NB, NOM, PRENOM\n",
    "FROM CLIENTS\n",
    "WHERE NB NOT IN\n",
    "    (SELECT DISTINCT c.NB\n",
    "    FROM WINES2 AS w\n",
    "        JOIN SALES AS s ON w.NV = s.NV AND w.MILL = 1980\n",
    "        JOIN CLIENTS AS c ON s.NB = c.NB)\n",
    "ORDER BY NB ASC;"
   ]
  },
  {
   "cell_type": "markdown",
   "metadata": {
    "id": "I-AIeaY5am3a"
   },
   "source": [
    "__2.9__ What clients (buveurs) have bought ONLY wines from 1980?"
   ]
  },
  {
   "cell_type": "code",
   "execution_count": 18,
   "metadata": {
    "id": "OHfxP_AUam3a",
    "outputId": "4e2a1e23-d099-407f-9593-ef2d198feb3c"
   },
   "outputs": [
    {
     "name": "stdout",
     "output_type": "stream",
     "text": [
      "*  sqlite:///wine.db\n",
      "Done.\n"
     ]
    },
    {
     "data": {
      "text/html": [
       "<table>\n",
       "    <thead>\n",
       "        <tr>\n",
       "            <th>NB</th>\n",
       "            <th>NOM</th>\n",
       "            <th>PRENOM</th>\n",
       "        </tr>\n",
       "    </thead>\n",
       "    <tbody>\n",
       "        <tr>\n",
       "            <td>44</td>\n",
       "            <td>Gide</td>\n",
       "            <td>Andre</td>\n",
       "        </tr>\n",
       "        <tr>\n",
       "            <td>45</td>\n",
       "            <td>Giono</td>\n",
       "            <td>Jean</td>\n",
       "        </tr>\n",
       "        <tr>\n",
       "            <td>50</td>\n",
       "            <td>Lautreamont</td>\n",
       "            <td>None</td>\n",
       "        </tr>\n",
       "    </tbody>\n",
       "</table>"
      ],
      "text/plain": [
       "+----+-------------+--------+\n",
       "| NB |     NOM     | PRENOM |\n",
       "+----+-------------+--------+\n",
       "| 44 |     Gide    | Andre  |\n",
       "| 45 |    Giono    |  Jean  |\n",
       "| 50 | Lautreamont |  None  |\n",
       "+----+-------------+--------+"
      ]
     },
     "execution_count": 18,
     "metadata": {},
     "output_type": "execute_result"
    }
   ],
   "source": [
    "%%sql\n",
    "SELECT DISTINCT c.NB, NOM, PRENOM\n",
    "FROM WINES2 AS w\n",
    "    JOIN SALES AS s ON w.NV = s.NV AND w.MILL = 1980\n",
    "    JOIN CLIENTS AS c ON s.NB = c.NB\n",
    "WHERE c.NB NOT IN\n",
    "    (SELECT DISTINCT c.NB\n",
    "    FROM WINES2 AS w\n",
    "        JOIN SALES AS s ON w.NV = s.NV AND w.MILL <> 1980\n",
    "        JOIN CLIENTS AS c ON s.NB = c.NB)\n",
    "ORDER BY c.NB ASC;"
   ]
  },
  {
   "cell_type": "markdown",
   "metadata": {
    "id": "hJq3-5POam3a"
   },
   "source": [
    "__2.10__ List all wines from 1980"
   ]
  },
  {
   "cell_type": "code",
   "execution_count": 19,
   "metadata": {
    "id": "g_kXPzrSam3a",
    "outputId": "56a63eb7-1003-4e2c-8866-1b0ad10fa3ea"
   },
   "outputs": [
    {
     "name": "stdout",
     "output_type": "stream",
     "text": [
      "*  sqlite:///wine.db\n",
      "Done.\n"
     ]
    },
    {
     "data": {
      "text/html": [
       "<table>\n",
       "    <thead>\n",
       "        <tr>\n",
       "            <th>NV</th>\n",
       "            <th>CRU</th>\n",
       "            <th>DEGRE</th>\n",
       "            <th>MILL</th>\n",
       "        </tr>\n",
       "    </thead>\n",
       "    <tbody>\n",
       "        <tr>\n",
       "            <td>1</td>\n",
       "            <td>Mercurey</td>\n",
       "            <td>11.5</td>\n",
       "            <td>1980</td>\n",
       "        </tr>\n",
       "        <tr>\n",
       "            <td>4</td>\n",
       "            <td>Mercurey</td>\n",
       "            <td>10.9</td>\n",
       "            <td>1980</td>\n",
       "        </tr>\n",
       "        <tr>\n",
       "            <td>16</td>\n",
       "            <td>Meursault</td>\n",
       "            <td>12.1</td>\n",
       "            <td>1980</td>\n",
       "        </tr>\n",
       "        <tr>\n",
       "            <td>20</td>\n",
       "            <td>Cote de Brouilly</td>\n",
       "            <td>12.1</td>\n",
       "            <td>1980</td>\n",
       "        </tr>\n",
       "        <tr>\n",
       "            <td>26</td>\n",
       "            <td>Chateau Corton Grancey</td>\n",
       "            <td>None</td>\n",
       "            <td>1980</td>\n",
       "        </tr>\n",
       "        <tr>\n",
       "            <td>28</td>\n",
       "            <td>Volnay</td>\n",
       "            <td>11</td>\n",
       "            <td>1980</td>\n",
       "        </tr>\n",
       "        <tr>\n",
       "            <td>43</td>\n",
       "            <td>Fleurie</td>\n",
       "            <td>11.4</td>\n",
       "            <td>1980</td>\n",
       "        </tr>\n",
       "        <tr>\n",
       "            <td>74</td>\n",
       "            <td>Arbois</td>\n",
       "            <td>12</td>\n",
       "            <td>1980</td>\n",
       "        </tr>\n",
       "        <tr>\n",
       "            <td>78</td>\n",
       "            <td>Etoile</td>\n",
       "            <td>12</td>\n",
       "            <td>1980</td>\n",
       "        </tr>\n",
       "        <tr>\n",
       "            <td>79</td>\n",
       "            <td>Seyssel</td>\n",
       "            <td>11</td>\n",
       "            <td>1980</td>\n",
       "        </tr>\n",
       "    </tbody>\n",
       "</table>\n",
       "<span style=\"font-style:italic;text-align:center;\">18 rows, truncated to displaylimit of 10</span><br><span style=\"font-style:italic;text-align:center;\">If you want to see more, please visit <a href=\"https://jupysql.ploomber.io/en/latest/api/configuration.html#displaylimit\">displaylimit</a> configuration</span>"
      ],
      "text/plain": [
       "+----+------------------------+-------+------+\n",
       "| NV |          CRU           | DEGRE | MILL |\n",
       "+----+------------------------+-------+------+\n",
       "| 1  |        Mercurey        |  11.5 | 1980 |\n",
       "| 4  |        Mercurey        |  10.9 | 1980 |\n",
       "| 16 |       Meursault        |  12.1 | 1980 |\n",
       "| 20 |    Cote de Brouilly    |  12.1 | 1980 |\n",
       "| 26 | Chateau Corton Grancey |  None | 1980 |\n",
       "| 28 |         Volnay         |   11  | 1980 |\n",
       "| 43 |        Fleurie         |  11.4 | 1980 |\n",
       "| 74 |         Arbois         |   12  | 1980 |\n",
       "| 78 |         Etoile         |   12  | 1980 |\n",
       "| 79 |        Seyssel         |   11  | 1980 |\n",
       "+----+------------------------+-------+------+"
      ]
     },
     "execution_count": 19,
     "metadata": {},
     "output_type": "execute_result"
    }
   ],
   "source": [
    "%%sql\n",
    "SELECT *\n",
    "FROM WINES2\n",
    "WHERE MILL = 1980\n",
    "ORDER BY NV ASC;"
   ]
  },
  {
   "cell_type": "markdown",
   "metadata": {
    "id": "nhdR_Kkwam3a"
   },
   "source": [
    "__2.11__ What are the wines from 1980 bought by NB=2?"
   ]
  },
  {
   "cell_type": "code",
   "execution_count": 20,
   "metadata": {
    "id": "tmDBg7euam3a",
    "outputId": "4ee84ad9-aa3c-48dd-cd6f-ea278fb1ecc1"
   },
   "outputs": [
    {
     "name": "stdout",
     "output_type": "stream",
     "text": [
      "*  sqlite:///wine.db\n",
      "Done.\n"
     ]
    },
    {
     "data": {
      "text/html": [
       "<table>\n",
       "    <thead>\n",
       "        <tr>\n",
       "            <th>NV</th>\n",
       "            <th>NB</th>\n",
       "            <th>DATES</th>\n",
       "            <th>LIEU</th>\n",
       "            <th>QTE</th>\n",
       "            <th>CRU</th>\n",
       "            <th>MILL</th>\n",
       "            <th>DEGRE</th>\n",
       "        </tr>\n",
       "    </thead>\n",
       "    <tbody>\n",
       "        <tr>\n",
       "            <td>1</td>\n",
       "            <td>2</td>\n",
       "            <td>1977-11-02</td>\n",
       "            <td>BORDEAUX</td>\n",
       "            <td>33</td>\n",
       "            <td>Mercurey</td>\n",
       "            <td>1980</td>\n",
       "            <td>11.5</td>\n",
       "        </tr>\n",
       "    </tbody>\n",
       "</table>"
      ],
      "text/plain": [
       "+----+----+------------+----------+-----+----------+------+-------+\n",
       "| NV | NB |   DATES    |   LIEU   | QTE |   CRU    | MILL | DEGRE |\n",
       "+----+----+------------+----------+-----+----------+------+-------+\n",
       "| 1  | 2  | 1977-11-02 | BORDEAUX |  33 | Mercurey | 1980 |  11.5 |\n",
       "+----+----+------------+----------+-----+----------+------+-------+"
      ]
     },
     "execution_count": 20,
     "metadata": {},
     "output_type": "execute_result"
    }
   ],
   "source": [
    "%%sql\n",
    "SELECT w.NV, s.NB, s.DATES, s.LIEU, s.QTE, w.CRU, w.MILL, w.DEGRE\n",
    "FROM WINES2 AS w\n",
    "    JOIN SALES AS s ON w.MILL = 1980 AND w.NV = s.NV AND s.NB = 2\n",
    "ORDER BY w.NV ASC;"
   ]
  },
  {
   "cell_type": "markdown",
   "metadata": {
    "id": "SpfHK4gOam3a"
   },
   "source": [
    "__2.12__ What clients (buveurs) have bought ALL the wines from 1980?"
   ]
  },
  {
   "cell_type": "code",
   "execution_count": 21,
   "metadata": {
    "id": "ngdFpEqsam3a",
    "outputId": "6f44b5e7-bbf3-47b4-cc8e-445fcdca1828"
   },
   "outputs": [
    {
     "name": "stdout",
     "output_type": "stream",
     "text": [
      "*  sqlite:///wine.db\n",
      "Done.\n"
     ]
    },
    {
     "data": {
      "text/html": [
       "<table>\n",
       "    <thead>\n",
       "        <tr>\n",
       "            <th>NB</th>\n",
       "            <th>NOM</th>\n",
       "            <th>PRENOM</th>\n",
       "        </tr>\n",
       "    </thead>\n",
       "    <tbody>\n",
       "        <tr>\n",
       "            <td>44</td>\n",
       "            <td>Gide</td>\n",
       "            <td>Andre</td>\n",
       "        </tr>\n",
       "    </tbody>\n",
       "</table>"
      ],
      "text/plain": [
       "+----+------+--------+\n",
       "| NB | NOM  | PRENOM |\n",
       "+----+------+--------+\n",
       "| 44 | Gide | Andre  |\n",
       "+----+------+--------+"
      ]
     },
     "execution_count": 21,
     "metadata": {},
     "output_type": "execute_result"
    }
   ],
   "source": [
    "%%sql\n",
    "SELECT c.NB, c.NOM, c.PRENOM\n",
    "FROM WINES2 AS w\n",
    "    JOIN SALES AS s ON w.MILL = 1980 AND s.NV = w.NV\n",
    "    JOIN CLIENTS AS c ON c.Nb = s.NB\n",
    "GROUP BY c.NB, c.NOM, c.PRENOM\n",
    "HAVING COUNT(DISTINCT(w.NV)) =\n",
    "    (SELECT COUNT(DISTINCT(NV))\n",
    "    FROM WINES2\n",
    "    WHERE MILL = 1980)\n",
    "ORDER BY c.NB ASC;"
   ]
  },
  {
   "cell_type": "code",
   "execution_count": null,
   "metadata": {
    "id": "jaGHZmfbam3b"
   },
   "outputs": [],
   "source": []
  }
 ],
 "metadata": {
  "anaconda-cloud": {},
  "colab": {
   "collapsed_sections": [],
   "name": "SD202 (créneau D) -TP2.ipynb",
   "provenance": []
  },
  "kernelspec": {
   "display_name": "Python 3 (ipykernel)",
   "language": "python",
   "name": "python3"
  },
  "language_info": {
   "codemirror_mode": {
    "name": "ipython",
    "version": 3
   },
   "file_extension": ".py",
   "mimetype": "text/x-python",
   "name": "python",
   "nbconvert_exporter": "python",
   "pygments_lexer": "ipython3",
   "version": "3.9.7"
  }
 },
 "nbformat": 4,
 "nbformat_minor": 1
}
